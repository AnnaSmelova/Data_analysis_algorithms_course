{
 "cells": [
  {
   "cell_type": "markdown",
   "metadata": {},
   "source": [
    "**Автор: Анна Смелова**"
   ]
  },
  {
   "cell_type": "code",
   "execution_count": 1,
   "metadata": {},
   "outputs": [],
   "source": [
    "import numpy as np\n",
    "import matplotlib.pyplot as plt\n",
    "from mpl_toolkits.mplot3d.axes3d import Axes3D"
   ]
  },
  {
   "cell_type": "markdown",
   "metadata": {},
   "source": [
    "## Решение домашнего задания к уроку 1 “Алгоритм линейной регрессии. Градиентный спуск.”"
   ]
  },
  {
   "cell_type": "code",
   "execution_count": 2,
   "metadata": {},
   "outputs": [],
   "source": [
    "def calc_mse(y, y_pred):\n",
    "    err = np.mean((y - y_pred)**2)\n",
    "    return err"
   ]
  },
  {
   "cell_type": "code",
   "execution_count": 3,
   "metadata": {},
   "outputs": [
    {
     "data": {
      "text/plain": [
       "(10, 2)"
      ]
     },
     "execution_count": 3,
     "metadata": {},
     "output_type": "execute_result"
    }
   ],
   "source": [
    "X = np.array([[ 1,  1],\n",
    "              [ 1,  1],\n",
    "              [ 1,  2],\n",
    "              [ 1,  5],\n",
    "              [ 1,  3],\n",
    "              [ 1,  0],\n",
    "              [ 1,  5],\n",
    "              [ 1, 10],\n",
    "              [ 1,  1],\n",
    "              [ 1,  2]])\n",
    "X.shape"
   ]
  },
  {
   "cell_type": "code",
   "execution_count": 4,
   "metadata": {},
   "outputs": [],
   "source": [
    "y = [45, 55, 50, 55, 60, 35, 75, 80, 50, 60]"
   ]
  },
  {
   "cell_type": "code",
   "execution_count": 5,
   "metadata": {},
   "outputs": [
    {
     "data": {
      "image/png": "[encoded data removed]",
      "text/plain": [
       "<Figure size 432x288 with 1 Axes>"
      ]
     },
     "metadata": {
      "needs_background": "light"
     },
     "output_type": "display_data"
    }
   ],
   "source": [
    "plt.scatter(X[:, 1], y)\n",
    "plt.show()"
   ]
  },
  {
   "cell_type": "markdown",
   "metadata": {},
   "source": [
    "### Задание 1\n",
    "#### Подберите скорость обучения (eta) и количество итераций"
   ]
  },
  {
   "cell_type": "code",
   "execution_count": 6,
   "metadata": {},
   "outputs": [
    {
     "name": "stdout",
     "output_type": "stream",
     "text": [
      "Number of objects = 2        \n",
      "Learning rate = 0.01        \n",
      "Initial weights = [1.  0.5]        \n",
      "Number of iterations = 250\n",
      "\n",
      "Iteration #0: W_new = [ 6.4  19.35], MSE = 3047.75\n",
      "Iteration #10: W_new = [18.77319138  8.6270072 ], MSE = 398.58\n",
      "Iteration #20: W_new = [27.15289315  7.06014716], MSE = 207.1\n",
      "Iteration #30: W_new = [32.4241672   6.10426679], MSE = 124.63\n",
      "Iteration #40: W_new = [35.85213314  5.48265802], MSE = 86.53\n",
      "Iteration #50: W_new = [38.15155609  5.06569312], MSE = 67.79\n",
      "Iteration #60: W_new = [39.73790007  4.7780341 ], MSE = 58.04\n",
      "Iteration #70: W_new = [40.86051023  4.57446606], MSE = 52.69\n",
      "Iteration #80: W_new = [41.67349173  4.4270444 ], MSE = 49.62\n",
      "Iteration #90: W_new = [42.2746909  4.3180262], MSE = 47.78\n",
      "Iteration #100: W_new = [42.727794    4.23586294], MSE = 46.63\n",
      "Iteration #110: W_new = [43.07521157  4.17286412], MSE = 45.89\n",
      "Iteration #120: W_new = [43.34578807  4.12379924], MSE = 45.4\n",
      "Iteration #130: W_new = [43.55952748  4.08504089], MSE = 45.06\n",
      "Iteration #140: W_new = [43.73055537  4.05402762], MSE = 44.82\n",
      "Iteration #150: W_new = [43.8690146   4.02892018], MSE = 44.65\n",
      "Iteration #160: W_new = [43.9823022   4.00837722], MSE = 44.53\n",
      "Iteration #170: W_new = [44.0758912   3.99140629], MSE = 44.44\n",
      "Iteration #180: W_new = [44.15388587  3.97726316], MSE = 44.36\n",
      "Iteration #190: W_new = [44.21940291  3.96538266], MSE = 44.31\n",
      "Iteration #200: W_new = [44.27483692  3.95533056], MSE = 44.26\n",
      "Iteration #210: W_new = [44.32204803  3.94676955], MSE = 44.23\n",
      "Iteration #220: W_new = [44.36249605  3.93943492], MSE = 44.2\n",
      "Iteration #230: W_new = [44.39733771  3.93311693], MSE = 44.18\n",
      "Iteration #240: W_new = [44.42749793  3.92764784], MSE = 44.16\n"
     ]
    }
   ],
   "source": [
    "n_1 = X.shape[1]\n",
    "\n",
    "eta_1 = 1e-2\n",
    "n_iter_1 = 250\n",
    "\n",
    "W_1 = np.array([1, 0.5])\n",
    "print(f'Number of objects = {n_1} \\\n",
    "       \\nLearning rate = {eta_1} \\\n",
    "       \\nInitial weights = {W_1} \\\n",
    "       \\nNumber of iterations = {n_iter_1}\\n')\n",
    "\n",
    "for i in range(n_iter_1):\n",
    "    y_pred_1 = np.dot(X, W_1)\n",
    "    err_1 = calc_mse(y, y_pred_1)\n",
    "    for k in range(W_1.shape[0]):\n",
    "        W_1[k] -= eta_1 * (1/n_1 * 2 * X[:, k] @ (y_pred_1 - y))\n",
    "    if i % 10 == 0:\n",
    "        eta_1 /= 1.1\n",
    "        print(f'Iteration #{i}: W_new = {W_1}, MSE = {round(err_1, 2)}')"
   ]
  },
  {
   "cell_type": "code",
   "execution_count": 7,
   "metadata": {},
   "outputs": [
    {
     "data": {
      "image/png": "[encoded data removed]",
      "text/plain": [
       "<Figure size 432x288 with 1 Axes>"
      ]
     },
     "metadata": {
      "needs_background": "light"
     },
     "output_type": "display_data"
    }
   ],
   "source": [
    "y_pred_grad_1 = X @ W_1\n",
    "plt.scatter(X[:, 1], y)\n",
    "plt.plot(X[:, 1], y_pred_grad_1, label=f'task1_{round(eta_1,2)}_{n_iter_1}', c='g')\n",
    "plt.legend()\n",
    "plt.show()"
   ]
  },
  {
   "cell_type": "markdown",
   "metadata": {},
   "source": [
    "### Задание 2*\n",
    "#### В этом коде мы избавляемся от итераций по весам, но тут есть ошибка, исправьте ее"
   ]
  },
  {
   "cell_type": "code",
   "execution_count": 8,
   "metadata": {},
   "outputs": [
    {
     "name": "stdout",
     "output_type": "stream",
     "text": [
      "Number of objects = 2        \n",
      "Learning rate = 0.01        \n",
      "Initial weights = [1.  0.5] \n",
      "\n",
      "Iteration #0: W_new = [ 6.4  19.35], MSE = 3047.75\n",
      "Iteration #10: W_new = [19.96966932  8.87179137], MSE = 379.6\n",
      "Iteration #20: W_new = [29.27719328  6.70531799], MSE = 172.93\n",
      "Iteration #30: W_new = [35.16120834  5.60976141], MSE = 94.66\n",
      "Iteration #40: W_new = [38.85365942  4.93848587], MSE = 63.9\n",
      "Iteration #50: W_new = [41.16920131  4.51849616], MSE = 51.81\n",
      "Iteration #60: W_new = [42.62118483  4.25519525], MSE = 47.05\n",
      "Iteration #70: W_new = [43.53165976  4.0900943 ], MSE = 45.18\n",
      "Iteration #80: W_new = [44.10257814  3.98656703], MSE = 44.45\n",
      "Iteration #90: W_new = [44.46057568  3.9216497 ], MSE = 44.16\n"
     ]
    }
   ],
   "source": [
    "n_2 = X.shape[1]\n",
    "\n",
    "eta_2 = 1e-2 \n",
    "n_iter_2 = 100\n",
    "\n",
    "W_2 = np.array([1, 0.5])\n",
    "print(f'Number of objects = {n_2} \\\n",
    "       \\nLearning rate = {eta_2} \\\n",
    "       \\nInitial weights = {W_2} \\n')\n",
    "\n",
    "for i in range(n_iter_2):\n",
    "    y_pred_2 = np.dot(X, W_2)\n",
    "    err_2 = calc_mse(y, y_pred_2)\n",
    "#     for k in range(W.shape[0]):\n",
    "#         W[k] -= eta * (1/n * 2 * X[:, k] @ (y_pred - y))\n",
    "    # ИЗМЕНЕНИЯ - начало (заменила X на X.T)\n",
    "    W_2 -= eta_2 * (1/n_2 * 2 * np.dot(X.T, (y_pred_2 - y)))\n",
    "    # ИЗМЕНЕНИЯ - конец\n",
    "    if i % 10 == 0:\n",
    "        print(f'Iteration #{i}: W_new = {W_2}, MSE = {round(err_2,2)}')"
   ]
  },
  {
   "cell_type": "code",
   "execution_count": 9,
   "metadata": {},
   "outputs": [
    {
     "data": {
      "image/png": "[encoded data removed]",
      "text/plain": [
       "<Figure size 432x288 with 1 Axes>"
      ]
     },
     "metadata": {
      "needs_background": "light"
     },
     "output_type": "display_data"
    }
   ],
   "source": [
    "y_pred_grad_2 = X @ W_2\n",
    "plt.scatter(X[:, 1], y)\n",
    "plt.plot(X[:, 1], y_pred_grad_2, label=f'task2_{round(eta_2,2)}_{n_iter_2}', c='r')\n",
    "plt.legend()\n",
    "plt.show()"
   ]
  },
  {
   "cell_type": "markdown",
   "metadata": {},
   "source": [
    "### Задание 3*\n",
    "#### Вместо того, чтобы задавать количество итераций, задайте другое условие останова алгоритма - когда веса перестают изменяться меньше определенного порога $\\epsilon$."
   ]
  },
  {
   "cell_type": "code",
   "execution_count": 10,
   "metadata": {},
   "outputs": [
    {
     "name": "stdout",
     "output_type": "stream",
     "text": [
      "Number of objects = 2        \n",
      "Learning rate = 0.01        \n",
      "Initial weights = [1.  0.5] \n",
      "\n",
      "Iteration #0: W_new = [ 6.4  19.35], MSE = 3047.75\n",
      "Iteration #10: W_new = [19.96966932  8.87179137], MSE = 379.6\n",
      "Iteration #20: W_new = [29.27719328  6.70531799], MSE = 172.93\n",
      "Iteration #30: W_new = [35.16120834  5.60976141], MSE = 94.66\n",
      "Iteration #40: W_new = [38.85365942  4.93848587], MSE = 63.9\n",
      "Iteration #50: W_new = [41.16920131  4.51849616], MSE = 51.81\n",
      "Iteration #60: W_new = [42.62118483  4.25519525], MSE = 47.05\n",
      "Iteration #70: W_new = [43.53165976  4.0900943 ], MSE = 45.18\n",
      "Iteration #80: W_new = [44.10257814  3.98656703], MSE = 44.45\n",
      "Iteration #90: W_new = [44.46057568  3.9216497 ], MSE = 44.16\n",
      "Iteration #100: W_new = [44.68506002  3.88094292], MSE = 44.04\n",
      "Iteration #110: W_new = [44.82582417  3.85541751], MSE = 44.0\n",
      "Iteration #120: W_new = [44.91409111  3.83941166], MSE = 43.98\n",
      "Iteration #130: W_new = [44.96943938  3.82937511], MSE = 43.97\n",
      "Iteration #140: W_new = [45.00414582  3.82308163], MSE = 43.97\n",
      "Iteration #150: W_new = [45.02590869  3.81913527], MSE = 43.97\n",
      "Iteration #160: W_new = [45.03955522  3.81666068], MSE = 43.97\n",
      "Iteration #170: W_new = [45.04811235  3.81510898], MSE = 43.97\n",
      "Iteration #180: W_new = [45.05347814  3.81413597], MSE = 43.97\n",
      "Iteration #190: W_new = [45.05684279  3.81352585], MSE = 43.97\n",
      "Iteration #200: W_new = [45.05895262  3.81314326], MSE = 43.97\n",
      "Iteration #210: W_new = [45.06027559  3.81290336], MSE = 43.97\n",
      "Iteration #220: W_new = [45.06110517  3.81275293], MSE = 43.97\n",
      "Iteration #230: W_new = [45.06162537  3.8126586 ], MSE = 43.97\n",
      "Iteration #240: W_new = [45.06195156  3.81259945], MSE = 43.97\n",
      "Iteration #250: W_new = [45.0621561   3.81256236], MSE = 43.97\n",
      "Iteration #260: W_new = [45.06228435  3.8125391 ], MSE = 43.97\n",
      "Iteration #270: W_new = [45.06236478  3.81252452], MSE = 43.97\n",
      "Iteration #280: W_new = [45.06241521  3.81251538], MSE = 43.97\n",
      "Iteration #290: W_new = [45.06244683  3.81250964], MSE = 43.97\n",
      "Iteration #300: W_new = [45.06246666  3.81250605], MSE = 43.97\n",
      "Iteration #310: W_new = [45.06247909  3.81250379], MSE = 43.97\n",
      "Iteration #320: W_new = [45.06248689  3.81250238], MSE = 43.97\n",
      "Iteration #330: W_new = [45.06249178  3.81250149], MSE = 43.97\n",
      "Iteration #340: W_new = [45.06249485  3.81250093], MSE = 43.97\n",
      "Iteration #350: W_new = [45.06249677  3.81250059], MSE = 43.97\n",
      "Iteration #360: W_new = [45.06249797  3.81250037], MSE = 43.97\n",
      "Iteration #370: W_new = [45.06249873  3.81250023], MSE = 43.97\n",
      "Iteration #380: W_new = [45.0624992   3.81250014], MSE = 43.97\n",
      "Iteration #390: W_new = [45.0624995   3.81250009], MSE = 43.97\n",
      "Iteration #400: W_new = [45.06249969  3.81250006], MSE = 43.97\n",
      "Количество итераций 410, изменение весов 9.9967682106472e-09\n"
     ]
    }
   ],
   "source": [
    "n_3 = X.shape[1]\n",
    "\n",
    "eta_3 = 1e-2 \n",
    "eps_3 = 1e-8\n",
    "n_iter_3 = 1e4\n",
    "\n",
    "W_3 = np.array([1, 0.5])\n",
    "print(f'Number of objects = {n_3} \\\n",
    "       \\nLearning rate = {eta_3} \\\n",
    "       \\nInitial weights = {W_3} \\n')\n",
    "\n",
    "weight_dist_3 = np.inf\n",
    "i = 0\n",
    "while weight_dist_3 > eps_3 and i < n_iter_3:\n",
    "    y_pred_3 = np.dot(X, W_3)\n",
    "    err_3 = calc_mse(y, y_pred_3)\n",
    "    new_W_3 = W_3 - eta_3 * (1/n_3 * 2 * np.dot(X.T, (y_pred_3 - y)))\n",
    "    weight_dist_3 = np.linalg.norm(new_W_3 - W_3, ord=2)\n",
    "    if i % 10 == 0:\n",
    "        print(f'Iteration #{i}: W_new = {new_W_3}, MSE = {round(err_3,2)}')\n",
    "    i += 1\n",
    "    W_3 = new_W_3\n",
    "print(f'Количество итераций {i}, изменение весов {weight_dist_3}')"
   ]
  },
  {
   "cell_type": "code",
   "execution_count": 11,
   "metadata": {},
   "outputs": [
    {
     "data": {
      "image/png": "[encoded data removed]",
      "text/plain": [
       "<Figure size 432x288 with 1 Axes>"
      ]
     },
     "metadata": {
      "needs_background": "light"
     },
     "output_type": "display_data"
    }
   ],
   "source": [
    "y_pred_grad_3 = X @ W_3\n",
    "plt.scatter(X[:, 1], y)\n",
    "plt.plot(X[:, 1], y_pred_grad_3, label=f'task3_{round(eta_3,2)}_{i}', c='b')\n",
    "plt.legend()\n",
    "plt.show()"
   ]
  }
 ],
 "metadata": {
  "kernelspec": {
   "display_name": "Python 3",
   "language": "python",
   "name": "python3"
  },
  "language_info": {
   "codemirror_mode": {
    "name": "ipython",
    "version": 3
   },
   "file_extension": ".py",
   "mimetype": "text/x-python",
   "name": "python",
   "nbconvert_exporter": "python",
   "pygments_lexer": "ipython3",
   "version": "3.7.3"
  }
 },
 "nbformat": 4,
 "nbformat_minor": 2
}
