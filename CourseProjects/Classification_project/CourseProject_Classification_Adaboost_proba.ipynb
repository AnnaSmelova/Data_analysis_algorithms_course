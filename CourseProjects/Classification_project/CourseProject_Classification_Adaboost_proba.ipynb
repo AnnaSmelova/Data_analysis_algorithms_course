{
 "cells": [
  {
   "cell_type": "markdown",
   "metadata": {},
   "source": [
    "**Автор: Анна Смелова**"
   ]
  },
  {
   "cell_type": "markdown",
   "metadata": {},
   "source": [
    "## Курсовая работа по теме \"Classification. Choose tutors\" (Часть 2: Adaboost)\n",
    "#### Geekbrains Algorithms for analyze data. Choose proper tutors for math exam\n",
    "https://www.kaggle.com/c/classification-choose-tutors"
   ]
  },
  {
   "cell_type": "markdown",
   "metadata": {},
   "source": [
    "**Материалы к проекту (файлы):**\n",
    "train.csv, \n",
    "test.csv\n",
    "\n",
    "**Задание:**\n",
    "Предсказать **вероятность** того, подойдет ли репетитор для подготовки к экзамену по математике.\n",
    "\n",
    "**Целевая переменная:**\n",
    "choose\n",
    "\n",
    "**Основная метрика:**\n",
    "The evaluation metric is ROC AUC\n",
    "\n",
    "**Пороговое значение метрики:**\n",
    "logistic_regression 0.66965\n",
    "\n",
    "**Ограничения:**\n",
    "You can only use these imports:<br>\n",
    "<font color='green'>\n",
    "import numpy as np<br>\n",
    "import pandas as pd<br>\n",
    "from sklearn.model_selection import train_test_split<br>\n",
    "from imblearn import over_sampling, under_sampling<br>\n",
    "import matplotlib.pyplot as plt<br>\n",
    "import seaborn as sns<br></font>"
   ]
  },
  {
   "cell_type": "markdown",
   "metadata": {},
   "source": [
    "**В этой части курсовой работы будем использовать модель Real Adaboost для предсказания.** <br>\n",
    "Это аналог классического дискретного Adaboost, только возвращающий вероятности вместо меток классов.<br>\n",
    "Моя попытка реализовать следующий алгоритм:"
   ]
  },
  {
   "cell_type": "markdown",
   "metadata": {},
   "source": [
    "Обобщением дискретного AdaBoost стал вещественный AdaBoost, использующий предикторы возвращающие значение вероятности принадлежности к классу. Множество значений слабого классификатора находится уже в области вещественных чисел. Знак $sign(f_m(x))$ определяет класс, а $|f_m(x)|$ вероятность. Ниже представлен алгоритм вещественного AdaBoost:<br>\n",
    "1. Задаются начальные веса $w_i=\\frac{1}{N},i=1,...,N$\n",
    "2. Для каждого $m=1,2,...,N$ обучается классификатор, возвращающий вероятность $p(x)$ принадлежности к классу, используя обучающее множества с весами $w_i$, затем вычисляется ошибка классификатора $f_m(x)\\leftarrow \\frac{1}{2} \\ln{\\frac{p(x)}{1-p(x)}}$.\n",
    "3. Далее необходимо обновить веса объектов $w_i=w_i*e^{-y_i*f_m(x_i)}$ и нормализовать их $w=\\frac{w}{sum(w)}$.\n",
    "4. Результат $sign\\sum_{m=1}^M{f_m(x)}$."
   ]
  },
  {
   "cell_type": "markdown",
   "metadata": {},
   "source": [
    "<font color='DarkBlue'>Реализацию честно частично подглядела в самом scikit-learn.</font>"
   ]
  },
  {
   "cell_type": "markdown",
   "metadata": {},
   "source": [
    "## Шаг 1: Подготовка инструментов"
   ]
  },
  {
   "cell_type": "markdown",
   "metadata": {},
   "source": [
    "### 1.1 Необходимые модули"
   ]
  },
  {
   "cell_type": "code",
   "execution_count": 1,
   "metadata": {},
   "outputs": [],
   "source": [
    "import numpy as np\n",
    "import pandas as pd\n",
    "from sklearn.model_selection import train_test_split\n",
    "from imblearn import over_sampling, under_sampling\n",
    "import matplotlib.pyplot as plt\n",
    "import seaborn as sns\n",
    "\n",
    "from numpy.core.umath_tests import inner1d # для расчета ошибки классификатора\n",
    "from numpy import trapz # для расчета площади под кривой\n",
    "import warnings\n",
    "warnings.filterwarnings('ignore')\n",
    "\n",
    "%matplotlib inline"
   ]
  },
  {
   "cell_type": "markdown",
   "metadata": {},
   "source": [
    "### 1.2 Загрузка данных"
   ]
  },
  {
   "cell_type": "markdown",
   "metadata": {},
   "source": [
    "Загрузим тренировочные данные в переменную **train_data**, тестовые данные в переменную **test_data**"
   ]
  },
  {
   "cell_type": "code",
   "execution_count": 2,
   "metadata": {},
   "outputs": [
    {
     "data": {
      "text/plain": [
       "(10000, 13)"
      ]
     },
     "execution_count": 2,
     "metadata": {},
     "output_type": "execute_result"
    }
   ],
   "source": [
    "train_data_base=pd.read_csv('classification-choose-tutors/train.csv')\n",
    "train_data=train_data_base.copy()\n",
    "train_data.shape"
   ]
  },
  {
   "cell_type": "code",
   "execution_count": 3,
   "metadata": {},
   "outputs": [
    {
     "data": {
      "text/plain": [
       "(10000, 12)"
      ]
     },
     "execution_count": 3,
     "metadata": {},
     "output_type": "execute_result"
    }
   ],
   "source": [
    "test_data_base=pd.read_csv('classification-choose-tutors/test.csv')\n",
    "test_data=test_data_base.copy()\n",
    "test_data.shape"
   ]
  },
  {
   "cell_type": "markdown",
   "metadata": {},
   "source": [
    "### 1.3 Необходимые классы и функции"
   ]
  },
  {
   "cell_type": "markdown",
   "metadata": {},
   "source": [
    "Функция для расчета основной метрики"
   ]
  },
  {
   "cell_type": "code",
   "execution_count": 4,
   "metadata": {},
   "outputs": [],
   "source": [
    "def calc_roc_auc(y_pred, y):\n",
    "    TP, FP, FN, TN = 0, 0, 0, 0\n",
    "    l = len(y_pred)\n",
    "    for i in range(l):\n",
    "        if y_pred[i] == 1 and y[i] == 1:\n",
    "            TP += 1\n",
    "        elif y_pred[i] == 1 and y[i] == 0:\n",
    "            FP += 1\n",
    "        elif y_pred[i] == 0 and y[i] == 0:\n",
    "            TN += 1\n",
    "        elif y_pred[i] == 0 and y[i] == 1:\n",
    "            FN += 1\n",
    "            \n",
    "    FPR = FP / (FP + TN)\n",
    "    \n",
    "    TPR = TP / (TP + FN)\n",
    "    \n",
    "    AUC_ROC = np.trapz([0,TPR,1], x = [0,FPR,1], dx=0.1)\n",
    "    \n",
    "    return AUC_ROC"
   ]
  },
  {
   "cell_type": "markdown",
   "metadata": {},
   "source": [
    "Функция для подсчета точности как доли правильных ответов"
   ]
  },
  {
   "cell_type": "code",
   "execution_count": 5,
   "metadata": {},
   "outputs": [],
   "source": [
    "def get_accuracy_metric(actual, predicted):\n",
    "    correct = 0\n",
    "    # получаем вероятности - преобразовываем в метка классов с порогом 0.5\n",
    "    for i in range(len(predicted)): \n",
    "        if (predicted[i] > 0.5): \n",
    "            predicted[i] = 1\n",
    "        elif (predicted[i] <= 0.5):\n",
    "            predicted[i] = 0\n",
    "\n",
    "    for i in range(len(actual)):\n",
    "        if actual[i] == predicted[i]:\n",
    "            correct += 1\n",
    "    return correct / float(len(actual)) * 100.0"
   ]
  },
  {
   "cell_type": "code",
   "execution_count": 7,
   "metadata": {},
   "outputs": [],
   "source": [
    "def plot_boxplot(title, train_data, test_data):\n",
    "    plt.figure(figsize=(10,5))\n",
    "    plt.title(title)\n",
    "    plt.box(True)\n",
    "    plt.grid()\n",
    "    my_pal = {'Train': 'LightGreen', 'Test': 'LightYellow'}\n",
    "    df = pd.DataFrame({'Train' : train_data, 'Test' : test_data})\n",
    "    sns.boxplot(x='value', y='variable', data=pd.melt(df), palette=my_pal)\n",
    "    plt.show()"
   ]
  },
  {
   "cell_type": "code",
   "execution_count": 8,
   "metadata": {},
   "outputs": [],
   "source": [
    "def plot_hist(title, train_data, test_data):\n",
    "    plt.figure(figsize=(10,5))\n",
    "    plt.xlabel(title)\n",
    "    plt.grid()\n",
    "    plt.hist(train_data, bins=15, density=False, label='Train', alpha=0.5, color='green')\n",
    "    plt.hist(test_data, bins=15, density=False, label='Test', alpha=0.5, color='yellow')\n",
    "    plt.legend()\n",
    "    plt.show()"
   ]
  },
  {
   "cell_type": "markdown",
   "metadata": {},
   "source": [
    "Классы для Adaboost"
   ]
  },
  {
   "cell_type": "code",
   "execution_count": 9,
   "metadata": {},
   "outputs": [],
   "source": [
    "# Класс узла\n",
    "class Node:\n",
    "    \n",
    "    def __init__(self, index, t, true_branch, false_branch):\n",
    "        self.index = index  # индекс признака, по которому ведется сравнение с порогом в этом узле\n",
    "        self.t = t  # значение порога\n",
    "        self.true_branch = true_branch  # поддерево, удовлетворяющее условию в узле\n",
    "        self.false_branch = false_branch  # поддерево, не удовлетворяющее условию в узле"
   ]
  },
  {
   "cell_type": "code",
   "execution_count": 10,
   "metadata": {},
   "outputs": [],
   "source": [
    "# Класс терминального узла (листа)\n",
    "class Leaf:\n",
    "    \n",
    "    def __init__(self, data, labels):\n",
    "        self.data = data\n",
    "        self.labels = labels\n",
    "        self.prediction = self.predict()\n",
    "        \n",
    "    # возвращает вероятности принадлежности к классам\n",
    "    def predict(self):\n",
    "        prediction = np.array([0., 0.])\n",
    "        # подсчет количества объектов разных классов\n",
    "        classes = {}  # сформируем словарь \"класс: количество объектов\"\n",
    "        classes[0] = 0\n",
    "        classes[1] = 0\n",
    "        for label in self.labels:\n",
    "            if label not in classes:\n",
    "                classes[label] = 0\n",
    "            classes[label] += 1\n",
    "            \n",
    "        # найдем класс, количество объектов которого будет максимальным в этом листе и вернем его    \n",
    "        prediction[0] = classes[0] / (classes[0] + classes[1])\n",
    "        prediction[1] = classes[1] / (classes[0] + classes[1])\n",
    "\n",
    "        return prediction"
   ]
  },
  {
   "cell_type": "code",
   "execution_count": 11,
   "metadata": {},
   "outputs": [],
   "source": [
    "# Класс пня\n",
    "class DecisionStump:\n",
    "    \n",
    "    def __init__(self, bad_splits):\n",
    "       \n",
    "        self.bad_splits = bad_splits\n",
    "        self.data = [] # данные\n",
    "        self.labels = [] # целевые метки    \n",
    "        self.n_features = [] # количество признаков\n",
    "        self.sample_weights = [] # веса объектов\n",
    "        self.nodes = []\n",
    "        self.leaves = []\n",
    "        self.stump = None\n",
    "        \n",
    "    def get_best_feature_value(self, data, labels, sample_weights): \n",
    "            \n",
    "        best_error = float('inf') # минимизируем ошибку, поэтому инициализируем ее большим значением\n",
    "        best_feature = None # лучший признак для разделения\n",
    "        best_value = None # лучшее значение признака\n",
    "        \n",
    "        # проходим по всем признакам\n",
    "        for feature in range(self.n_features):\n",
    "            # находим наиболее выгодное значение для разбиения текущего признака\n",
    "            value, error = self.find_best_stump(feature, self.bad_splits)\n",
    "            if (error < best_error):\n",
    "                best_error = error\n",
    "                best_value = value\n",
    "                best_feature = feature\n",
    "        \n",
    "        return best_feature, best_value, best_error\n",
    "            \n",
    "    # подбор наилучшего разбиения для пня\n",
    "    def find_best_stump(self, feature, # исследуемый признак \n",
    "                        bad_splits): # массив признак-значение с неудачными разделениями\n",
    "        \n",
    "        feature_values = sorted(np.unique(self.data[:,feature]))\n",
    "        \n",
    "        best_value = None\n",
    "        best_error = float('inf')\n",
    "        \n",
    "        for value in feature_values[:-1]:\n",
    "            \n",
    "            if feature in bad_splits.keys():\n",
    "                if value in bad_splits[feature]:\n",
    "                    continue\n",
    "                    \n",
    "            predict = self.predict_train(feature, value)\n",
    "            \n",
    "            error = self.calculate_error(predict)\n",
    "            \n",
    "            if error < best_error:\n",
    "                best_error = error\n",
    "                best_value = value\n",
    "                 \n",
    "        return best_value, best_error\n",
    "    \n",
    "    # разбиение пня на две ветки по переданному признаку и его значению\n",
    "    def split(self, data, labels, sample_weights, feature, value):\n",
    "        \n",
    "        left = np.where(data[:, feature] <= value)\n",
    "        right = np.where(data[:, feature] > value)\n",
    "        \n",
    "        true_data = data[left]\n",
    "        false_data = data[right]\n",
    "\n",
    "        true_labels = labels[left]\n",
    "        false_labels = labels[right]\n",
    "        \n",
    "        true_weights = sample_weights[left]\n",
    "        false_weights = sample_weights[right]\n",
    "        \n",
    "        return true_data, false_data, true_labels, false_labels, true_weights, false_weights, left, right\n",
    "    \n",
    "    # предсказание для переданной ветки пня (ветку передаем набором находящихся в ней меток)\n",
    "    def predict_leaf(self, labels):\n",
    "        # подсчет количества объектов разных классов\n",
    "        classes = {}  # сформируем словарь \"класс: количество объектов\"\n",
    "        for label in labels:\n",
    "            if label not in classes:\n",
    "                classes[label] = 0\n",
    "            classes[label] += 1\n",
    "            \n",
    "        # найдем класс, количество объектов которого будет максимальным в этом листе и вернем его    \n",
    "        prediction = max(classes, key=classes.get)\n",
    "        return prediction\n",
    "    \n",
    "    # предсказание для разбиения по переданному признаку и его значению\n",
    "    def predict_train(self, feature, value):\n",
    "        \n",
    "        true_data, false_data, true_labels, false_labels, true_weights, false_weights, left, right = self.split(self.data, self.labels, self.sample_weights, feature, value)\n",
    "        \n",
    "        predict = np.zeros(self.labels.shape)\n",
    "        \n",
    "        predict[left] = [self.predict_leaf(true_labels)] * len(true_labels)\n",
    "        predict[right] = [self.predict_leaf(false_labels)] * len(false_labels)\n",
    "        \n",
    "        return predict\n",
    "    \n",
    "    # ошибку считаем как сумму весов неправильно классифицированных объектов\n",
    "    def calculate_error(self, predict):\n",
    "        \n",
    "        error = 0\n",
    "        \n",
    "        for i in range(len(self.labels)):\n",
    "            if predict[i] != self.labels[i]:\n",
    "                error += self.sample_weights[i]\n",
    "                \n",
    "        return error\n",
    "    \n",
    "    # Построение дерева с помощью рекурсивной функции\n",
    "    def build_stump(self, data, labels, sample_weights, is_leaf=False):\n",
    "        \n",
    "        if is_leaf:\n",
    "            self.leaves.append(Leaf(data, labels))\n",
    "            return Leaf(data, labels)\n",
    "        \n",
    "        self.feature, self.value, self.best_error = self.get_best_feature_value(data, labels, sample_weights)\n",
    "        \n",
    "        true_data, false_data, true_labels, false_labels, true_weights, false_weights, left, right = self.split(data, labels, sample_weights, self.feature, self.value)\n",
    "\n",
    "        # строим две ветки\n",
    "        true_branch = self.build_stump(true_data, true_labels, true_weights, is_leaf=True)\n",
    "        false_branch = self.build_stump(false_data, false_labels, false_weights, is_leaf=True)\n",
    "\n",
    "        # Возвращаем класс узла, то есть пня\n",
    "        self.nodes.append(Node(self.feature, self.value, true_branch, false_branch))\n",
    "        return Node(self.feature, self.value, true_branch, false_branch)\n",
    "    \n",
    "    def fit(self, data, labels, sample_weights):\n",
    "        \n",
    "        self.data = np.array(data)\n",
    "        self.labels = np.array(labels)\n",
    "        self.n_features = self.data.shape[1]\n",
    "        self.sample_weights = np.array(sample_weights)\n",
    "        \n",
    "        self.stump = self.build_stump(data, labels, sample_weights)\n",
    "        return self\n",
    "    \n",
    "    def classify_object(self, obj, node):\n",
    "        #  Останавливаем рекурсию, если достигли листа\n",
    "        if isinstance(node, Leaf):\n",
    "            answer = node.prediction\n",
    "            return answer\n",
    "\n",
    "        if obj[node.index] <= node.t:\n",
    "            return self.classify_object(obj, node.true_branch)\n",
    "        else:\n",
    "            return self.classify_object(obj, node.false_branch)\n",
    "    \n",
    "    def predict(self, data):\n",
    "        classes = []\n",
    "        for obj in data:\n",
    "            prediction = self.classify_object(obj, self.stump)\n",
    "            classes.append(prediction)\n",
    "        return np.array(classes)"
   ]
  },
  {
   "cell_type": "code",
   "execution_count": 13,
   "metadata": {},
   "outputs": [],
   "source": [
    "# Класс AdaBoost\n",
    "class AdaBoost:\n",
    "    def __init__(self, n_trees, learning_rate=0.5): # количествоо деревьев \n",
    "        \n",
    "        self.n_trees = n_trees\n",
    "        self.bad_splits = {}\n",
    "        self.forest = []  \n",
    "        self.train_accuracy = []\n",
    "        self.test_accuracy = []\n",
    "        self.train_roc = []\n",
    "        self.test_roc = []\n",
    "        self.stump_weights = []\n",
    "        self.learning_rate = learning_rate\n",
    "        \n",
    "    # Функция подсчета ошибки\n",
    "    def get_stump_error(self, pred, y, sample_weight):\n",
    "        \n",
    "        pred_class = pred[:,1].copy()\n",
    "        \n",
    "        for i in range(len(pred_class)):\n",
    "            if (pred_class[i] > 0.5): \n",
    "                pred_class[i] = 1\n",
    "            elif (pred_class[i] <= 0.5):\n",
    "                pred_class[i] = 0\n",
    "        \n",
    "        pred_class = np.array(pred_class)\n",
    "        incorrect = pred_class != y\n",
    "        #err = np.mean(np.average(incorrect, weights=sample_weight, axis=0))\n",
    "        err = sum(pred_class != y) / len(y)\n",
    "        return err\n",
    "   \n",
    "    # Сам алгоритм\n",
    "    def adaboost(self, X, y, X_valid, y_valid, get_err):\n",
    "        # Размер выборки\n",
    "        n_objects = len(X)\n",
    "\n",
    "        # Запишем количество классов в переменную\n",
    "        n_classes = len(np.unique((y)))\n",
    "        classes = np.array([0, 1])\n",
    "        \n",
    "        y_codes = np.array([-1./(n_classes - 1), 1.])\n",
    "        y_coding = y_codes.take(classes == y[:,np.newaxis])#[:,1]\n",
    "\n",
    "        # Начальные веса объектов\n",
    "        w = np.ones(n_objects) / n_objects\n",
    "\n",
    "        # Деревья с весами будем записывать в список\n",
    "        self.forest = []\n",
    "        \n",
    "        bad_trees_n = 0\n",
    "\n",
    "        for n in range(self.n_trees):\n",
    "            \n",
    "            clf = DecisionStump(self.bad_splits)\n",
    "            clf.fit(X, y, w)\n",
    "\n",
    "            y_predict_proba = clf.predict(X)\n",
    "            y_predict_proba[y_predict_proba<=0] = 1e-5 # обрабатываем граничные значения\n",
    "            \n",
    "            stump_error = self.get_stump_error(y_predict_proba, y, w)\n",
    "\n",
    "            # отбросим дерево, если его ошибка больше 0.5\n",
    "            if stump_error >= 1 - 1/n_classes:\n",
    "                \n",
    "                if clf.feature in self.bad_splits.keys():\n",
    "                    self.bad_splits[clf.feature].append(clf.value)\n",
    "                else:\n",
    "                    self.bad_splits[clf.feature] = [clf.value]\n",
    "                bad_trees_n += 1\n",
    "                continue\n",
    "            \n",
    "            # вес пня нужен только для перерасчета весов объектов\n",
    "            stump_weight = (-1. * 0.5 * inner1d(y_coding, np.log(y_predict_proba)))\n",
    "            # пересчитаем веса объектов\n",
    "            w *= np.exp(stump_weight *((w > 0) | (stump_weight < 0)))\n",
    "            # нормализуем веса\n",
    "            w /= w.sum()\n",
    "\n",
    "            # Добавим дерево с весом 1 в список\n",
    "            self.stump_weights.append(1)\n",
    "            self.forest.append((1, clf))\n",
    "            \n",
    "            # записываем ошибки на каждой итерации для визуализации обучения\n",
    "            if get_err:\n",
    "            \n",
    "                train_labels_pred = self.predict(X)\n",
    "                test_labels_pred = self.predict(X_valid)\n",
    "                train_accuracy = get_accuracy_metric(y, train_labels_pred)\n",
    "                test_accuracy = get_accuracy_metric(y_valid, test_labels_pred)\n",
    "                train_roc = calc_roc_auc(train_labels_pred, y)\n",
    "                test_roc = calc_roc_auc(test_labels_pred, y_valid)\n",
    "\n",
    "                self.train_accuracy.append(train_accuracy)\n",
    "                self.test_accuracy.append(test_accuracy)\n",
    "                self.train_roc.append(train_roc)\n",
    "                self.test_roc.append(test_roc)\n",
    "\n",
    "        return self\n",
    "    \n",
    "    def fit(self, data, labels, test_data, test_labels, get_err=False): \n",
    "        return self.adaboost(data, labels, test_data, test_labels, get_err)\n",
    "    \n",
    "    def predict(self, X):\n",
    "        proba = np.array(sum(clf.predict(X) for f, clf in self.forest))\n",
    "        n_classes = 2\n",
    "        \n",
    "        proba /= np.sum(self.stump_weights)\n",
    "        proba = np.exp((1. / (n_classes - 1)) * proba)\n",
    "        normalizer = proba.sum(axis=1)[:, np.newaxis]\n",
    "        normalizer[normalizer == 0.0] = 1.0\n",
    "        proba /= normalizer\n",
    "        \n",
    "        # возвращаем вероятности только для класса 1\n",
    "        return proba[:,1]"
   ]
  },
  {
   "cell_type": "code",
   "execution_count": 14,
   "metadata": {},
   "outputs": [],
   "source": [
    "def plot_errors(a_trees, train_roc, test_roc, train_acc, test_acc):\n",
    "    plt.figure(figsize=(16,7))\n",
    "    \n",
    "    plt.subplot(1,2,1)\n",
    "    plt.plot(a_trees, train_roc, c='green', label='Train')\n",
    "    plt.plot(a_trees, test_roc, c='red', label='Test')\n",
    "    plt.xlabel('Количество деревьев')\n",
    "    plt.ylabel('ROC_AUC')\n",
    "    plt.legend()\n",
    "    \n",
    "    plt.subplot(1,2,2)\n",
    "    plt.plot(a_trees, train_acc, c='LightGreen', label='Train')\n",
    "    plt.plot(a_trees, test_acc, c='coral', label='Test')\n",
    "    plt.xlabel('Количество деревьев')\n",
    "    plt.ylabel('Accuracy')\n",
    "    plt.legend()\n",
    "    plt.show()"
   ]
  },
  {
   "cell_type": "markdown",
   "metadata": {},
   "source": [
    "**Проверка модели на синтетических данных**"
   ]
  },
  {
   "cell_type": "code",
   "execution_count": 15,
   "metadata": {},
   "outputs": [],
   "source": [
    "from sklearn.datasets import make_classification\n",
    "classification_data, classification_labels = make_classification(n_samples=200, n_features=7, n_informative=5, \n",
    "                                                                 n_classes=2, n_redundant=0,\n",
    "                                                                 n_clusters_per_class=1, random_state=9)"
   ]
  },
  {
   "cell_type": "code",
   "execution_count": 16,
   "metadata": {},
   "outputs": [
    {
     "name": "stdout",
     "output_type": "stream",
     "text": [
      "(140, 7) (60, 7) (140,) (60,)\n"
     ]
    }
   ],
   "source": [
    "X_train, X_valid, y_train, y_valid = train_test_split(classification_data, classification_labels, test_size=0.3, random_state=42)\n",
    "print(X_train.shape, X_valid.shape, y_train.shape, y_valid.shape)"
   ]
  },
  {
   "cell_type": "code",
   "execution_count": 17,
   "metadata": {},
   "outputs": [
    {
     "name": "stdout",
     "output_type": "stream",
     "text": [
      "Train Accuracy 97.85714285714285\n",
      "Test Accuracy 95.0\n",
      "\n",
      "Train ROC_AUC 0.9794520547945205\n",
      "Test ROC_AUC 0.9513574660633485\n",
      "\n"
     ]
    },
    {
     "data": {
      "image/png": "[encoded data removed]",
      "text/plain": [
       "<Figure size 1152x504 with 2 Axes>"
      ]
     },
     "metadata": {
      "needs_background": "light"
     },
     "output_type": "display_data"
    },
    {
     "name": "stdout",
     "output_type": "stream",
     "text": [
      "CPU times: user 1min 5s, sys: 164 ms, total: 1min 5s\n",
      "Wall time: 1min 6s\n"
     ]
    }
   ],
   "source": [
    "%%time\n",
    "n_trees = 300\n",
    "adaboost = AdaBoost(n_trees=n_trees).fit(X_train, y_train, X_valid, y_valid, get_err=True)\n",
    "train_labels_a = adaboost.predict(X_train)\n",
    "test_labels_a = adaboost.predict(X_valid)\n",
    "\n",
    "# Точность на обучающей выборке\n",
    "train_accuracy_a = get_accuracy_metric(y_train, train_labels_a)\n",
    "train_error_a = get_error(y_train, train_labels_a)\n",
    "# Точность на тестовой выборке\n",
    "test_accuracy_a = get_accuracy_metric(y_valid, test_labels_a)\n",
    "test_error_a = get_error(y_valid, test_labels_a)\n",
    "\n",
    "print(f'Train Accuracy {train_accuracy_a}')\n",
    "print(f'Test Accuracy {test_accuracy_a}')\n",
    "print()\n",
    "print(f'Train ROC_AUC {calc_roc_auc(train_labels_a, y_train)}')\n",
    "print(f'Test ROC_AUC {calc_roc_auc(test_labels_a, y_valid)}')\n",
    "print()\n",
    "\n",
    "plot_errors(list(range(n_trees)), adaboost.train_roc, adaboost.test_roc, adaboost.train_accuracy, adaboost.test_accuracy)"
   ]
  },
  {
   "cell_type": "markdown",
   "metadata": {},
   "source": [
    "Видно, что алгоритм немного переобучается, но в целом со своей задачей справляется."
   ]
  },
  {
   "cell_type": "markdown",
   "metadata": {},
   "source": [
    "## Шаг 2: Подготовка данных"
   ]
  },
  {
   "cell_type": "code",
   "execution_count": 18,
   "metadata": {},
   "outputs": [
    {
     "data": {
      "text/html": [
       "<div>\n",
       "<style scoped>\n",
       "    .dataframe tbody tr th:only-of-type {\n",
       "        vertical-align: middle;\n",
       "    }\n",
       "\n",
       "    .dataframe tbody tr th {\n",
       "        vertical-align: top;\n",
       "    }\n",
       "\n",
       "    .dataframe thead th {\n",
       "        text-align: right;\n",
       "    }\n",
       "</style>\n",
       "<table border=\"1\" class=\"dataframe\">\n",
       "  <thead>\n",
       "    <tr style=\"text-align: right;\">\n",
       "      <th></th>\n",
       "      <th>Id</th>\n",
       "      <th>age</th>\n",
       "      <th>years_of_experience</th>\n",
       "      <th>lesson_price</th>\n",
       "      <th>qualification</th>\n",
       "      <th>physics</th>\n",
       "      <th>chemistry</th>\n",
       "      <th>biology</th>\n",
       "      <th>english</th>\n",
       "      <th>geography</th>\n",
       "      <th>history</th>\n",
       "      <th>mean_exam_points</th>\n",
       "      <th>choose</th>\n",
       "    </tr>\n",
       "  </thead>\n",
       "  <tbody>\n",
       "    <tr>\n",
       "      <th>0</th>\n",
       "      <td>0</td>\n",
       "      <td>35.0</td>\n",
       "      <td>0.0</td>\n",
       "      <td>2150.0</td>\n",
       "      <td>2.0</td>\n",
       "      <td>0.0</td>\n",
       "      <td>0.0</td>\n",
       "      <td>0.0</td>\n",
       "      <td>0.0</td>\n",
       "      <td>0.0</td>\n",
       "      <td>0.0</td>\n",
       "      <td>74.0</td>\n",
       "      <td>0</td>\n",
       "    </tr>\n",
       "    <tr>\n",
       "      <th>1</th>\n",
       "      <td>1</td>\n",
       "      <td>52.0</td>\n",
       "      <td>2.0</td>\n",
       "      <td>1250.0</td>\n",
       "      <td>2.0</td>\n",
       "      <td>1.0</td>\n",
       "      <td>0.0</td>\n",
       "      <td>1.0</td>\n",
       "      <td>0.0</td>\n",
       "      <td>0.0</td>\n",
       "      <td>1.0</td>\n",
       "      <td>57.0</td>\n",
       "      <td>1</td>\n",
       "    </tr>\n",
       "    <tr>\n",
       "      <th>2</th>\n",
       "      <td>2</td>\n",
       "      <td>29.0</td>\n",
       "      <td>3.0</td>\n",
       "      <td>1750.0</td>\n",
       "      <td>1.0</td>\n",
       "      <td>1.0</td>\n",
       "      <td>0.0</td>\n",
       "      <td>0.0</td>\n",
       "      <td>0.0</td>\n",
       "      <td>0.0</td>\n",
       "      <td>0.0</td>\n",
       "      <td>66.0</td>\n",
       "      <td>0</td>\n",
       "    </tr>\n",
       "    <tr>\n",
       "      <th>3</th>\n",
       "      <td>3</td>\n",
       "      <td>33.0</td>\n",
       "      <td>3.0</td>\n",
       "      <td>1050.0</td>\n",
       "      <td>1.0</td>\n",
       "      <td>0.0</td>\n",
       "      <td>0.0</td>\n",
       "      <td>0.0</td>\n",
       "      <td>0.0</td>\n",
       "      <td>0.0</td>\n",
       "      <td>0.0</td>\n",
       "      <td>66.0</td>\n",
       "      <td>1</td>\n",
       "    </tr>\n",
       "    <tr>\n",
       "      <th>4</th>\n",
       "      <td>4</td>\n",
       "      <td>46.0</td>\n",
       "      <td>3.0</td>\n",
       "      <td>2250.0</td>\n",
       "      <td>2.0</td>\n",
       "      <td>1.0</td>\n",
       "      <td>0.0</td>\n",
       "      <td>0.0</td>\n",
       "      <td>0.0</td>\n",
       "      <td>0.0</td>\n",
       "      <td>0.0</td>\n",
       "      <td>73.0</td>\n",
       "      <td>0</td>\n",
       "    </tr>\n",
       "  </tbody>\n",
       "</table>\n",
       "</div>"
      ],
      "text/plain": [
       "   Id   age  years_of_experience  lesson_price  qualification  physics  \\\n",
       "0   0  35.0                  0.0        2150.0            2.0      0.0   \n",
       "1   1  52.0                  2.0        1250.0            2.0      1.0   \n",
       "2   2  29.0                  3.0        1750.0            1.0      1.0   \n",
       "3   3  33.0                  3.0        1050.0            1.0      0.0   \n",
       "4   4  46.0                  3.0        2250.0            2.0      1.0   \n",
       "\n",
       "   chemistry  biology  english  geography  history  mean_exam_points  choose  \n",
       "0        0.0      0.0      0.0        0.0      0.0              74.0       0  \n",
       "1        0.0      1.0      0.0        0.0      1.0              57.0       1  \n",
       "2        0.0      0.0      0.0        0.0      0.0              66.0       0  \n",
       "3        0.0      0.0      0.0        0.0      0.0              66.0       1  \n",
       "4        0.0      0.0      0.0        0.0      0.0              73.0       0  "
      ]
     },
     "execution_count": 18,
     "metadata": {},
     "output_type": "execute_result"
    }
   ],
   "source": [
    "train_data.head()"
   ]
  },
  {
   "cell_type": "code",
   "execution_count": 19,
   "metadata": {},
   "outputs": [
    {
     "data": {
      "text/html": [
       "<div>\n",
       "<style scoped>\n",
       "    .dataframe tbody tr th:only-of-type {\n",
       "        vertical-align: middle;\n",
       "    }\n",
       "\n",
       "    .dataframe tbody tr th {\n",
       "        vertical-align: top;\n",
       "    }\n",
       "\n",
       "    .dataframe thead th {\n",
       "        text-align: right;\n",
       "    }\n",
       "</style>\n",
       "<table border=\"1\" class=\"dataframe\">\n",
       "  <thead>\n",
       "    <tr style=\"text-align: right;\">\n",
       "      <th></th>\n",
       "      <th>Id</th>\n",
       "      <th>age</th>\n",
       "      <th>years_of_experience</th>\n",
       "      <th>lesson_price</th>\n",
       "      <th>qualification</th>\n",
       "      <th>physics</th>\n",
       "      <th>chemistry</th>\n",
       "      <th>biology</th>\n",
       "      <th>english</th>\n",
       "      <th>geography</th>\n",
       "      <th>history</th>\n",
       "      <th>mean_exam_points</th>\n",
       "    </tr>\n",
       "  </thead>\n",
       "  <tbody>\n",
       "    <tr>\n",
       "      <th>0</th>\n",
       "      <td>10000</td>\n",
       "      <td>32.0</td>\n",
       "      <td>2.0</td>\n",
       "      <td>2700.0</td>\n",
       "      <td>3.0</td>\n",
       "      <td>0.0</td>\n",
       "      <td>0.0</td>\n",
       "      <td>0.0</td>\n",
       "      <td>0.0</td>\n",
       "      <td>0.0</td>\n",
       "      <td>0.0</td>\n",
       "      <td>90.0</td>\n",
       "    </tr>\n",
       "    <tr>\n",
       "      <th>1</th>\n",
       "      <td>10001</td>\n",
       "      <td>35.0</td>\n",
       "      <td>6.0</td>\n",
       "      <td>1800.0</td>\n",
       "      <td>2.0</td>\n",
       "      <td>1.0</td>\n",
       "      <td>1.0</td>\n",
       "      <td>0.0</td>\n",
       "      <td>0.0</td>\n",
       "      <td>0.0</td>\n",
       "      <td>0.0</td>\n",
       "      <td>71.0</td>\n",
       "    </tr>\n",
       "    <tr>\n",
       "      <th>2</th>\n",
       "      <td>10002</td>\n",
       "      <td>44.0</td>\n",
       "      <td>2.0</td>\n",
       "      <td>1200.0</td>\n",
       "      <td>1.0</td>\n",
       "      <td>0.0</td>\n",
       "      <td>0.0</td>\n",
       "      <td>0.0</td>\n",
       "      <td>0.0</td>\n",
       "      <td>0.0</td>\n",
       "      <td>0.0</td>\n",
       "      <td>45.0</td>\n",
       "    </tr>\n",
       "    <tr>\n",
       "      <th>3</th>\n",
       "      <td>10003</td>\n",
       "      <td>44.0</td>\n",
       "      <td>4.0</td>\n",
       "      <td>2950.0</td>\n",
       "      <td>3.0</td>\n",
       "      <td>1.0</td>\n",
       "      <td>0.0</td>\n",
       "      <td>0.0</td>\n",
       "      <td>0.0</td>\n",
       "      <td>0.0</td>\n",
       "      <td>0.0</td>\n",
       "      <td>92.0</td>\n",
       "    </tr>\n",
       "    <tr>\n",
       "      <th>4</th>\n",
       "      <td>10004</td>\n",
       "      <td>38.0</td>\n",
       "      <td>3.0</td>\n",
       "      <td>1400.0</td>\n",
       "      <td>2.0</td>\n",
       "      <td>1.0</td>\n",
       "      <td>0.0</td>\n",
       "      <td>0.0</td>\n",
       "      <td>0.0</td>\n",
       "      <td>0.0</td>\n",
       "      <td>0.0</td>\n",
       "      <td>58.0</td>\n",
       "    </tr>\n",
       "  </tbody>\n",
       "</table>\n",
       "</div>"
      ],
      "text/plain": [
       "      Id   age  years_of_experience  lesson_price  qualification  physics  \\\n",
       "0  10000  32.0                  2.0        2700.0            3.0      0.0   \n",
       "1  10001  35.0                  6.0        1800.0            2.0      1.0   \n",
       "2  10002  44.0                  2.0        1200.0            1.0      0.0   \n",
       "3  10003  44.0                  4.0        2950.0            3.0      1.0   \n",
       "4  10004  38.0                  3.0        1400.0            2.0      1.0   \n",
       "\n",
       "   chemistry  biology  english  geography  history  mean_exam_points  \n",
       "0        0.0      0.0      0.0        0.0      0.0              90.0  \n",
       "1        1.0      0.0      0.0        0.0      0.0              71.0  \n",
       "2        0.0      0.0      0.0        0.0      0.0              45.0  \n",
       "3        0.0      0.0      0.0        0.0      0.0              92.0  \n",
       "4        0.0      0.0      0.0        0.0      0.0              58.0  "
      ]
     },
     "execution_count": 19,
     "metadata": {},
     "output_type": "execute_result"
    }
   ],
   "source": [
    "test_data.head()"
   ]
  },
  {
   "cell_type": "markdown",
   "metadata": {},
   "source": [
    "### 2.1 Обработка пропущенных значений и выбросов в данных"
   ]
  },
  {
   "cell_type": "code",
   "execution_count": 20,
   "metadata": {},
   "outputs": [
    {
     "data": {
      "text/html": [
       "<div>\n",
       "<style scoped>\n",
       "    .dataframe tbody tr th:only-of-type {\n",
       "        vertical-align: middle;\n",
       "    }\n",
       "\n",
       "    .dataframe tbody tr th {\n",
       "        vertical-align: top;\n",
       "    }\n",
       "\n",
       "    .dataframe thead th {\n",
       "        text-align: right;\n",
       "    }\n",
       "</style>\n",
       "<table border=\"1\" class=\"dataframe\">\n",
       "  <thead>\n",
       "    <tr style=\"text-align: right;\">\n",
       "      <th></th>\n",
       "      <th>count</th>\n",
       "      <th>mean</th>\n",
       "      <th>std</th>\n",
       "      <th>min</th>\n",
       "      <th>25%</th>\n",
       "      <th>50%</th>\n",
       "      <th>75%</th>\n",
       "      <th>max</th>\n",
       "    </tr>\n",
       "  </thead>\n",
       "  <tbody>\n",
       "    <tr>\n",
       "      <th>Id</th>\n",
       "      <td>10000.0</td>\n",
       "      <td>4999.5000</td>\n",
       "      <td>2886.895680</td>\n",
       "      <td>0.0</td>\n",
       "      <td>2499.75</td>\n",
       "      <td>4999.5</td>\n",
       "      <td>7499.25</td>\n",
       "      <td>9999.0</td>\n",
       "    </tr>\n",
       "    <tr>\n",
       "      <th>age</th>\n",
       "      <td>10000.0</td>\n",
       "      <td>45.8009</td>\n",
       "      <td>8.030274</td>\n",
       "      <td>23.0</td>\n",
       "      <td>40.00</td>\n",
       "      <td>46.0</td>\n",
       "      <td>51.00</td>\n",
       "      <td>68.0</td>\n",
       "    </tr>\n",
       "    <tr>\n",
       "      <th>years_of_experience</th>\n",
       "      <td>10000.0</td>\n",
       "      <td>1.9748</td>\n",
       "      <td>1.766883</td>\n",
       "      <td>0.0</td>\n",
       "      <td>0.00</td>\n",
       "      <td>2.0</td>\n",
       "      <td>3.00</td>\n",
       "      <td>9.0</td>\n",
       "    </tr>\n",
       "    <tr>\n",
       "      <th>lesson_price</th>\n",
       "      <td>10000.0</td>\n",
       "      <td>1702.4400</td>\n",
       "      <td>523.789062</td>\n",
       "      <td>200.0</td>\n",
       "      <td>1300.00</td>\n",
       "      <td>1550.0</td>\n",
       "      <td>2150.00</td>\n",
       "      <td>3950.0</td>\n",
       "    </tr>\n",
       "    <tr>\n",
       "      <th>qualification</th>\n",
       "      <td>10000.0</td>\n",
       "      <td>1.7243</td>\n",
       "      <td>0.798845</td>\n",
       "      <td>1.0</td>\n",
       "      <td>1.00</td>\n",
       "      <td>2.0</td>\n",
       "      <td>2.00</td>\n",
       "      <td>4.0</td>\n",
       "    </tr>\n",
       "    <tr>\n",
       "      <th>physics</th>\n",
       "      <td>10000.0</td>\n",
       "      <td>0.3706</td>\n",
       "      <td>0.482990</td>\n",
       "      <td>0.0</td>\n",
       "      <td>0.00</td>\n",
       "      <td>0.0</td>\n",
       "      <td>1.00</td>\n",
       "      <td>1.0</td>\n",
       "    </tr>\n",
       "    <tr>\n",
       "      <th>chemistry</th>\n",
       "      <td>10000.0</td>\n",
       "      <td>0.1215</td>\n",
       "      <td>0.326724</td>\n",
       "      <td>0.0</td>\n",
       "      <td>0.00</td>\n",
       "      <td>0.0</td>\n",
       "      <td>0.00</td>\n",
       "      <td>1.0</td>\n",
       "    </tr>\n",
       "    <tr>\n",
       "      <th>biology</th>\n",
       "      <td>10000.0</td>\n",
       "      <td>0.1172</td>\n",
       "      <td>0.321675</td>\n",
       "      <td>0.0</td>\n",
       "      <td>0.00</td>\n",
       "      <td>0.0</td>\n",
       "      <td>0.00</td>\n",
       "      <td>1.0</td>\n",
       "    </tr>\n",
       "    <tr>\n",
       "      <th>english</th>\n",
       "      <td>10000.0</td>\n",
       "      <td>0.0591</td>\n",
       "      <td>0.235824</td>\n",
       "      <td>0.0</td>\n",
       "      <td>0.00</td>\n",
       "      <td>0.0</td>\n",
       "      <td>0.00</td>\n",
       "      <td>1.0</td>\n",
       "    </tr>\n",
       "    <tr>\n",
       "      <th>geography</th>\n",
       "      <td>10000.0</td>\n",
       "      <td>0.0277</td>\n",
       "      <td>0.164120</td>\n",
       "      <td>0.0</td>\n",
       "      <td>0.00</td>\n",
       "      <td>0.0</td>\n",
       "      <td>0.00</td>\n",
       "      <td>1.0</td>\n",
       "    </tr>\n",
       "    <tr>\n",
       "      <th>history</th>\n",
       "      <td>10000.0</td>\n",
       "      <td>0.0180</td>\n",
       "      <td>0.132958</td>\n",
       "      <td>0.0</td>\n",
       "      <td>0.00</td>\n",
       "      <td>0.0</td>\n",
       "      <td>0.00</td>\n",
       "      <td>1.0</td>\n",
       "    </tr>\n",
       "    <tr>\n",
       "      <th>mean_exam_points</th>\n",
       "      <td>10000.0</td>\n",
       "      <td>64.4352</td>\n",
       "      <td>13.595024</td>\n",
       "      <td>33.0</td>\n",
       "      <td>55.00</td>\n",
       "      <td>63.0</td>\n",
       "      <td>74.00</td>\n",
       "      <td>100.0</td>\n",
       "    </tr>\n",
       "    <tr>\n",
       "      <th>choose</th>\n",
       "      <td>10000.0</td>\n",
       "      <td>0.1109</td>\n",
       "      <td>0.314024</td>\n",
       "      <td>0.0</td>\n",
       "      <td>0.00</td>\n",
       "      <td>0.0</td>\n",
       "      <td>0.00</td>\n",
       "      <td>1.0</td>\n",
       "    </tr>\n",
       "  </tbody>\n",
       "</table>\n",
       "</div>"
      ],
      "text/plain": [
       "                       count       mean          std    min      25%     50%  \\\n",
       "Id                   10000.0  4999.5000  2886.895680    0.0  2499.75  4999.5   \n",
       "age                  10000.0    45.8009     8.030274   23.0    40.00    46.0   \n",
       "years_of_experience  10000.0     1.9748     1.766883    0.0     0.00     2.0   \n",
       "lesson_price         10000.0  1702.4400   523.789062  200.0  1300.00  1550.0   \n",
       "qualification        10000.0     1.7243     0.798845    1.0     1.00     2.0   \n",
       "physics              10000.0     0.3706     0.482990    0.0     0.00     0.0   \n",
       "chemistry            10000.0     0.1215     0.326724    0.0     0.00     0.0   \n",
       "biology              10000.0     0.1172     0.321675    0.0     0.00     0.0   \n",
       "english              10000.0     0.0591     0.235824    0.0     0.00     0.0   \n",
       "geography            10000.0     0.0277     0.164120    0.0     0.00     0.0   \n",
       "history              10000.0     0.0180     0.132958    0.0     0.00     0.0   \n",
       "mean_exam_points     10000.0    64.4352    13.595024   33.0    55.00    63.0   \n",
       "choose               10000.0     0.1109     0.314024    0.0     0.00     0.0   \n",
       "\n",
       "                         75%     max  \n",
       "Id                   7499.25  9999.0  \n",
       "age                    51.00    68.0  \n",
       "years_of_experience     3.00     9.0  \n",
       "lesson_price         2150.00  3950.0  \n",
       "qualification           2.00     4.0  \n",
       "physics                 1.00     1.0  \n",
       "chemistry               0.00     1.0  \n",
       "biology                 0.00     1.0  \n",
       "english                 0.00     1.0  \n",
       "geography               0.00     1.0  \n",
       "history                 0.00     1.0  \n",
       "mean_exam_points       74.00   100.0  \n",
       "choose                  0.00     1.0  "
      ]
     },
     "execution_count": 20,
     "metadata": {},
     "output_type": "execute_result"
    }
   ],
   "source": [
    "train_data.describe().T"
   ]
  },
  {
   "cell_type": "code",
   "execution_count": 21,
   "metadata": {},
   "outputs": [
    {
     "name": "stdout",
     "output_type": "stream",
     "text": [
      "<class 'pandas.core.frame.DataFrame'>\n",
      "RangeIndex: 10000 entries, 0 to 9999\n",
      "Data columns (total 13 columns):\n",
      "Id                     10000 non-null int64\n",
      "age                    10000 non-null float64\n",
      "years_of_experience    10000 non-null float64\n",
      "lesson_price           10000 non-null float64\n",
      "qualification          10000 non-null float64\n",
      "physics                10000 non-null float64\n",
      "chemistry              10000 non-null float64\n",
      "biology                10000 non-null float64\n",
      "english                10000 non-null float64\n",
      "geography              10000 non-null float64\n",
      "history                10000 non-null float64\n",
      "mean_exam_points       10000 non-null float64\n",
      "choose                 10000 non-null int64\n",
      "dtypes: float64(11), int64(2)\n",
      "memory usage: 1015.8 KB\n"
     ]
    }
   ],
   "source": [
    "train_data.info()"
   ]
  },
  {
   "cell_type": "code",
   "execution_count": 22,
   "metadata": {},
   "outputs": [
    {
     "data": {
      "text/html": [
       "<div>\n",
       "<style scoped>\n",
       "    .dataframe tbody tr th:only-of-type {\n",
       "        vertical-align: middle;\n",
       "    }\n",
       "\n",
       "    .dataframe tbody tr th {\n",
       "        vertical-align: top;\n",
       "    }\n",
       "\n",
       "    .dataframe thead th {\n",
       "        text-align: right;\n",
       "    }\n",
       "</style>\n",
       "<table border=\"1\" class=\"dataframe\">\n",
       "  <thead>\n",
       "    <tr style=\"text-align: right;\">\n",
       "      <th></th>\n",
       "      <th>count</th>\n",
       "      <th>mean</th>\n",
       "      <th>std</th>\n",
       "      <th>min</th>\n",
       "      <th>25%</th>\n",
       "      <th>50%</th>\n",
       "      <th>75%</th>\n",
       "      <th>max</th>\n",
       "    </tr>\n",
       "  </thead>\n",
       "  <tbody>\n",
       "    <tr>\n",
       "      <th>Id</th>\n",
       "      <td>10000.0</td>\n",
       "      <td>14999.5000</td>\n",
       "      <td>2886.895680</td>\n",
       "      <td>10000.0</td>\n",
       "      <td>12499.75</td>\n",
       "      <td>14999.5</td>\n",
       "      <td>17499.25</td>\n",
       "      <td>19999.0</td>\n",
       "    </tr>\n",
       "    <tr>\n",
       "      <th>age</th>\n",
       "      <td>10000.0</td>\n",
       "      <td>45.9245</td>\n",
       "      <td>8.031977</td>\n",
       "      <td>23.0</td>\n",
       "      <td>41.00</td>\n",
       "      <td>46.0</td>\n",
       "      <td>51.00</td>\n",
       "      <td>68.0</td>\n",
       "    </tr>\n",
       "    <tr>\n",
       "      <th>years_of_experience</th>\n",
       "      <td>10000.0</td>\n",
       "      <td>1.9857</td>\n",
       "      <td>1.771217</td>\n",
       "      <td>0.0</td>\n",
       "      <td>0.00</td>\n",
       "      <td>2.0</td>\n",
       "      <td>3.00</td>\n",
       "      <td>9.0</td>\n",
       "    </tr>\n",
       "    <tr>\n",
       "      <th>lesson_price</th>\n",
       "      <td>10000.0</td>\n",
       "      <td>1699.9100</td>\n",
       "      <td>526.260094</td>\n",
       "      <td>300.0</td>\n",
       "      <td>1300.00</td>\n",
       "      <td>1550.0</td>\n",
       "      <td>2150.00</td>\n",
       "      <td>3950.0</td>\n",
       "    </tr>\n",
       "    <tr>\n",
       "      <th>qualification</th>\n",
       "      <td>10000.0</td>\n",
       "      <td>1.7023</td>\n",
       "      <td>0.789644</td>\n",
       "      <td>1.0</td>\n",
       "      <td>1.00</td>\n",
       "      <td>1.5</td>\n",
       "      <td>2.00</td>\n",
       "      <td>4.0</td>\n",
       "    </tr>\n",
       "    <tr>\n",
       "      <th>physics</th>\n",
       "      <td>10000.0</td>\n",
       "      <td>0.3721</td>\n",
       "      <td>0.483389</td>\n",
       "      <td>0.0</td>\n",
       "      <td>0.00</td>\n",
       "      <td>0.0</td>\n",
       "      <td>1.00</td>\n",
       "      <td>1.0</td>\n",
       "    </tr>\n",
       "    <tr>\n",
       "      <th>chemistry</th>\n",
       "      <td>10000.0</td>\n",
       "      <td>0.1281</td>\n",
       "      <td>0.334218</td>\n",
       "      <td>0.0</td>\n",
       "      <td>0.00</td>\n",
       "      <td>0.0</td>\n",
       "      <td>0.00</td>\n",
       "      <td>1.0</td>\n",
       "    </tr>\n",
       "    <tr>\n",
       "      <th>biology</th>\n",
       "      <td>10000.0</td>\n",
       "      <td>0.1158</td>\n",
       "      <td>0.320001</td>\n",
       "      <td>0.0</td>\n",
       "      <td>0.00</td>\n",
       "      <td>0.0</td>\n",
       "      <td>0.00</td>\n",
       "      <td>1.0</td>\n",
       "    </tr>\n",
       "    <tr>\n",
       "      <th>english</th>\n",
       "      <td>10000.0</td>\n",
       "      <td>0.0490</td>\n",
       "      <td>0.215879</td>\n",
       "      <td>0.0</td>\n",
       "      <td>0.00</td>\n",
       "      <td>0.0</td>\n",
       "      <td>0.00</td>\n",
       "      <td>1.0</td>\n",
       "    </tr>\n",
       "    <tr>\n",
       "      <th>geography</th>\n",
       "      <td>10000.0</td>\n",
       "      <td>0.0292</td>\n",
       "      <td>0.168375</td>\n",
       "      <td>0.0</td>\n",
       "      <td>0.00</td>\n",
       "      <td>0.0</td>\n",
       "      <td>0.00</td>\n",
       "      <td>1.0</td>\n",
       "    </tr>\n",
       "    <tr>\n",
       "      <th>history</th>\n",
       "      <td>10000.0</td>\n",
       "      <td>0.0151</td>\n",
       "      <td>0.121957</td>\n",
       "      <td>0.0</td>\n",
       "      <td>0.00</td>\n",
       "      <td>0.0</td>\n",
       "      <td>0.00</td>\n",
       "      <td>1.0</td>\n",
       "    </tr>\n",
       "    <tr>\n",
       "      <th>mean_exam_points</th>\n",
       "      <td>10000.0</td>\n",
       "      <td>64.1494</td>\n",
       "      <td>13.570096</td>\n",
       "      <td>32.0</td>\n",
       "      <td>55.00</td>\n",
       "      <td>63.0</td>\n",
       "      <td>73.00</td>\n",
       "      <td>98.0</td>\n",
       "    </tr>\n",
       "  </tbody>\n",
       "</table>\n",
       "</div>"
      ],
      "text/plain": [
       "                       count        mean          std      min       25%  \\\n",
       "Id                   10000.0  14999.5000  2886.895680  10000.0  12499.75   \n",
       "age                  10000.0     45.9245     8.031977     23.0     41.00   \n",
       "years_of_experience  10000.0      1.9857     1.771217      0.0      0.00   \n",
       "lesson_price         10000.0   1699.9100   526.260094    300.0   1300.00   \n",
       "qualification        10000.0      1.7023     0.789644      1.0      1.00   \n",
       "physics              10000.0      0.3721     0.483389      0.0      0.00   \n",
       "chemistry            10000.0      0.1281     0.334218      0.0      0.00   \n",
       "biology              10000.0      0.1158     0.320001      0.0      0.00   \n",
       "english              10000.0      0.0490     0.215879      0.0      0.00   \n",
       "geography            10000.0      0.0292     0.168375      0.0      0.00   \n",
       "history              10000.0      0.0151     0.121957      0.0      0.00   \n",
       "mean_exam_points     10000.0     64.1494    13.570096     32.0     55.00   \n",
       "\n",
       "                         50%       75%      max  \n",
       "Id                   14999.5  17499.25  19999.0  \n",
       "age                     46.0     51.00     68.0  \n",
       "years_of_experience      2.0      3.00      9.0  \n",
       "lesson_price          1550.0   2150.00   3950.0  \n",
       "qualification            1.5      2.00      4.0  \n",
       "physics                  0.0      1.00      1.0  \n",
       "chemistry                0.0      0.00      1.0  \n",
       "biology                  0.0      0.00      1.0  \n",
       "english                  0.0      0.00      1.0  \n",
       "geography                0.0      0.00      1.0  \n",
       "history                  0.0      0.00      1.0  \n",
       "mean_exam_points        63.0     73.00     98.0  "
      ]
     },
     "execution_count": 22,
     "metadata": {},
     "output_type": "execute_result"
    }
   ],
   "source": [
    "test_data.describe().T"
   ]
  },
  {
   "cell_type": "code",
   "execution_count": 23,
   "metadata": {},
   "outputs": [
    {
     "name": "stdout",
     "output_type": "stream",
     "text": [
      "<class 'pandas.core.frame.DataFrame'>\n",
      "RangeIndex: 10000 entries, 0 to 9999\n",
      "Data columns (total 12 columns):\n",
      "Id                     10000 non-null int64\n",
      "age                    10000 non-null float64\n",
      "years_of_experience    10000 non-null float64\n",
      "lesson_price           10000 non-null float64\n",
      "qualification          10000 non-null float64\n",
      "physics                10000 non-null float64\n",
      "chemistry              10000 non-null float64\n",
      "biology                10000 non-null float64\n",
      "english                10000 non-null float64\n",
      "geography              10000 non-null float64\n",
      "history                10000 non-null float64\n",
      "mean_exam_points       10000 non-null float64\n",
      "dtypes: float64(11), int64(1)\n",
      "memory usage: 937.6 KB\n"
     ]
    }
   ],
   "source": [
    "test_data.info()"
   ]
  },
  {
   "cell_type": "markdown",
   "metadata": {},
   "source": [
    "Пропусков в данных нет.<br>\n",
    "Выбросов в данных также не видно. Но, на всякий случай посмотрим более детально на признак \"lesson_price\"."
   ]
  },
  {
   "cell_type": "code",
   "execution_count": 24,
   "metadata": {},
   "outputs": [
    {
     "data": {
      "image/png": "[encoded data removed]",
      "text/plain": [
       "<Figure size 720x360 with 1 Axes>"
      ]
     },
     "metadata": {
      "needs_background": "light"
     },
     "output_type": "display_data"
    },
    {
     "data": {
      "image/png": "[encoded data removed]",
      "text/plain": [
       "<Figure size 720x360 with 1 Axes>"
      ]
     },
     "metadata": {
      "needs_background": "light"
     },
     "output_type": "display_data"
    }
   ],
   "source": [
    "plot_hist('lesson_price', train_data['lesson_price'], test_data['lesson_price'])\n",
    "plot_boxplot('lesson_price', train_data['lesson_price'], test_data['lesson_price'])"
   ]
  },
  {
   "cell_type": "markdown",
   "metadata": {},
   "source": [
    "Значения, которые превышают 3400 можно считать выбросами. Но, так как они есть и в тренировочной выборке и в тестовой, не будем удалять их."
   ]
  },
  {
   "cell_type": "markdown",
   "metadata": {},
   "source": [
    "### 2.2 Поиск взаимосвязей между признаками"
   ]
  },
  {
   "cell_type": "markdown",
   "metadata": {},
   "source": [
    "Разделим признаки на количественные, ранговые и категориальные (признак \"Id\" пока добавим в ранговые, а потом уберем, т.к. он неинформативный, признак \"age\" добавим в количественные):"
   ]
  },
  {
   "cell_type": "code",
   "execution_count": 25,
   "metadata": {},
   "outputs": [],
   "source": [
    "cat_features = ['physics', 'chemistry', 'biology', 'english', 'geography', 'history', 'choose']\n",
    "rank_features = ['Id', 'years_of_experience', 'qualification']\n",
    "num_features = ['age', 'lesson_price', 'mean_exam_points']"
   ]
  },
  {
   "cell_type": "code",
   "execution_count": 26,
   "metadata": {},
   "outputs": [],
   "source": [
    "train_data_num = train_data[num_features]\n",
    "train_data_rank = train_data[rank_features]\n",
    "train_data_cat = train_data[cat_features]\n",
    "\n",
    "test_data_num = test_data[num_features]\n",
    "test_data_rank = test_data[rank_features]\n",
    "test_data_cat = test_data[cat_features[:-1]]"
   ]
  },
  {
   "cell_type": "markdown",
   "metadata": {},
   "source": [
    "Для количественных признаков посмотрим на матрицу корреляции."
   ]
  },
  {
   "cell_type": "code",
   "execution_count": 27,
   "metadata": {},
   "outputs": [
    {
     "data": {
      "text/html": [
       "<style  type=\"text/css\" >\n",
       "    #T_8cc9ed9c_3f16_11eb_ae8a_acde48001122row0_col0 {\n",
       "            background-color:  #b40426;\n",
       "            color:  #f1f1f1;\n",
       "        }    #T_8cc9ed9c_3f16_11eb_ae8a_acde48001122row0_col1 {\n",
       "            background-color:  #5f7fe8;\n",
       "            color:  #000000;\n",
       "        }    #T_8cc9ed9c_3f16_11eb_ae8a_acde48001122row0_col2 {\n",
       "            background-color:  #3b4cc0;\n",
       "            color:  #f1f1f1;\n",
       "        }    #T_8cc9ed9c_3f16_11eb_ae8a_acde48001122row0_col3 {\n",
       "            background-color:  #6485ec;\n",
       "            color:  #000000;\n",
       "        }    #T_8cc9ed9c_3f16_11eb_ae8a_acde48001122row1_col0 {\n",
       "            background-color:  #3b4cc0;\n",
       "            color:  #f1f1f1;\n",
       "        }    #T_8cc9ed9c_3f16_11eb_ae8a_acde48001122row1_col1 {\n",
       "            background-color:  #b40426;\n",
       "            color:  #f1f1f1;\n",
       "        }    #T_8cc9ed9c_3f16_11eb_ae8a_acde48001122row1_col2 {\n",
       "            background-color:  #f6a283;\n",
       "            color:  #000000;\n",
       "        }    #T_8cc9ed9c_3f16_11eb_ae8a_acde48001122row1_col3 {\n",
       "            background-color:  #3b4cc0;\n",
       "            color:  #f1f1f1;\n",
       "        }    #T_8cc9ed9c_3f16_11eb_ae8a_acde48001122row2_col0 {\n",
       "            background-color:  #3b4cc0;\n",
       "            color:  #f1f1f1;\n",
       "        }    #T_8cc9ed9c_3f16_11eb_ae8a_acde48001122row2_col1 {\n",
       "            background-color:  #f39577;\n",
       "            color:  #000000;\n",
       "        }    #T_8cc9ed9c_3f16_11eb_ae8a_acde48001122row2_col2 {\n",
       "            background-color:  #b40426;\n",
       "            color:  #f1f1f1;\n",
       "        }    #T_8cc9ed9c_3f16_11eb_ae8a_acde48001122row2_col3 {\n",
       "            background-color:  #80a3fa;\n",
       "            color:  #000000;\n",
       "        }    #T_8cc9ed9c_3f16_11eb_ae8a_acde48001122row3_col0 {\n",
       "            background-color:  #3f53c6;\n",
       "            color:  #f1f1f1;\n",
       "        }    #T_8cc9ed9c_3f16_11eb_ae8a_acde48001122row3_col1 {\n",
       "            background-color:  #3b4cc0;\n",
       "            color:  #f1f1f1;\n",
       "        }    #T_8cc9ed9c_3f16_11eb_ae8a_acde48001122row3_col2 {\n",
       "            background-color:  #5b7ae5;\n",
       "            color:  #000000;\n",
       "        }    #T_8cc9ed9c_3f16_11eb_ae8a_acde48001122row3_col3 {\n",
       "            background-color:  #b40426;\n",
       "            color:  #f1f1f1;\n",
       "        }</style><table id=\"T_8cc9ed9c_3f16_11eb_ae8a_acde48001122\" ><thead>    <tr>        <th class=\"blank level0\" ></th>        <th class=\"col_heading level0 col0\" >age</th>        <th class=\"col_heading level0 col1\" >lesson_price</th>        <th class=\"col_heading level0 col2\" >mean_exam_points</th>        <th class=\"col_heading level0 col3\" >choose</th>    </tr></thead><tbody>\n",
       "                <tr>\n",
       "                        <th id=\"T_8cc9ed9c_3f16_11eb_ae8a_acde48001122level0_row0\" class=\"row_heading level0 row0\" >age</th>\n",
       "                        <td id=\"T_8cc9ed9c_3f16_11eb_ae8a_acde48001122row0_col0\" class=\"data row0 col0\" >1</td>\n",
       "                        <td id=\"T_8cc9ed9c_3f16_11eb_ae8a_acde48001122row0_col1\" class=\"data row0 col1\" >0.00069</td>\n",
       "                        <td id=\"T_8cc9ed9c_3f16_11eb_ae8a_acde48001122row0_col2\" class=\"data row0 col2\" >0.0041</td>\n",
       "                        <td id=\"T_8cc9ed9c_3f16_11eb_ae8a_acde48001122row0_col3\" class=\"data row0 col3\" >0.017</td>\n",
       "            </tr>\n",
       "            <tr>\n",
       "                        <th id=\"T_8cc9ed9c_3f16_11eb_ae8a_acde48001122level0_row1\" class=\"row_heading level0 row1\" >lesson_price</th>\n",
       "                        <td id=\"T_8cc9ed9c_3f16_11eb_ae8a_acde48001122row1_col0\" class=\"data row1 col0\" >0.00069</td>\n",
       "                        <td id=\"T_8cc9ed9c_3f16_11eb_ae8a_acde48001122row1_col1\" class=\"data row1 col1\" >1</td>\n",
       "                        <td id=\"T_8cc9ed9c_3f16_11eb_ae8a_acde48001122row1_col2\" class=\"data row1 col2\" >0.73</td>\n",
       "                        <td id=\"T_8cc9ed9c_3f16_11eb_ae8a_acde48001122row1_col3\" class=\"data row1 col3\" >-0.13</td>\n",
       "            </tr>\n",
       "            <tr>\n",
       "                        <th id=\"T_8cc9ed9c_3f16_11eb_ae8a_acde48001122level0_row2\" class=\"row_heading level0 row2\" >mean_exam_points</th>\n",
       "                        <td id=\"T_8cc9ed9c_3f16_11eb_ae8a_acde48001122row2_col0\" class=\"data row2 col0\" >0.0041</td>\n",
       "                        <td id=\"T_8cc9ed9c_3f16_11eb_ae8a_acde48001122row2_col1\" class=\"data row2 col1\" >0.73</td>\n",
       "                        <td id=\"T_8cc9ed9c_3f16_11eb_ae8a_acde48001122row2_col2\" class=\"data row2 col2\" >1</td>\n",
       "                        <td id=\"T_8cc9ed9c_3f16_11eb_ae8a_acde48001122row2_col3\" class=\"data row2 col3\" >0.11</td>\n",
       "            </tr>\n",
       "            <tr>\n",
       "                        <th id=\"T_8cc9ed9c_3f16_11eb_ae8a_acde48001122level0_row3\" class=\"row_heading level0 row3\" >choose</th>\n",
       "                        <td id=\"T_8cc9ed9c_3f16_11eb_ae8a_acde48001122row3_col0\" class=\"data row3 col0\" >0.017</td>\n",
       "                        <td id=\"T_8cc9ed9c_3f16_11eb_ae8a_acde48001122row3_col1\" class=\"data row3 col1\" >-0.13</td>\n",
       "                        <td id=\"T_8cc9ed9c_3f16_11eb_ae8a_acde48001122row3_col2\" class=\"data row3 col2\" >0.11</td>\n",
       "                        <td id=\"T_8cc9ed9c_3f16_11eb_ae8a_acde48001122row3_col3\" class=\"data row3 col3\" >1</td>\n",
       "            </tr>\n",
       "    </tbody></table>"
      ],
      "text/plain": [
       "<pandas.io.formats.style.Styler at 0x7f8f0a18c278>"
      ]
     },
     "execution_count": 27,
     "metadata": {},
     "output_type": "execute_result"
    }
   ],
   "source": [
    "corr_features = num_features + ['choose']\n",
    "corr = train_data[corr_features].corr()\n",
    "corr.style.background_gradient(cmap='coolwarm').set_precision(2)"
   ]
  },
  {
   "cell_type": "markdown",
   "metadata": {},
   "source": [
    "Признаки \"lesson_price\" и \"mean_exam_points\" высоко коррелируют между собой, но недостаточно, чтобы удалить один из них."
   ]
  },
  {
   "cell_type": "markdown",
   "metadata": {},
   "source": [
    "Для категориальных и ранговых признаков псмотрим на взаимную информацию между признаками и целевой переменной.<br>\n",
    "Сначала разделим признаки тренировочной выборки на непосредственно признаки и на целевую переменную. Признак \"Id\" неинформативный - тоже выделим его в отдельную переменную."
   ]
  },
  {
   "cell_type": "code",
   "execution_count": 28,
   "metadata": {},
   "outputs": [],
   "source": [
    "target = train_data_cat['choose']\n",
    "train_ids = train_data_rank['Id'].astype('int64')\n",
    "train_num = train_data_num\n",
    "train_rank = train_data_rank.drop(['Id'],axis=1)\n",
    "train_cat = train_data_cat.drop(['choose'],axis=1)"
   ]
  },
  {
   "cell_type": "markdown",
   "metadata": {},
   "source": [
    "Для подсчета взаимной информации надо, чтобы признак был дискретным."
   ]
  },
  {
   "cell_type": "code",
   "execution_count": 29,
   "metadata": {},
   "outputs": [],
   "source": [
    "from sklearn.metrics.cluster import contingency_matrix\n",
    "def get_mi(x, y):\n",
    "    mi = 0\n",
    "    cm = contingency_matrix(y, x)\n",
    "    \n",
    "    for i in range(cm.shape[0]):\n",
    "        for j in range(cm.shape[1]):\n",
    "            size = np.sum(cm)\n",
    "            p_x_y = cm[i][j] / size\n",
    "            p_x = np.sum(cm[:, j]) / size\n",
    "            p_y = np.sum(cm[i]) / size\n",
    "\n",
    "            if p_x_y == 0:\n",
    "                continue\n",
    "            mi += p_x_y * np.log(p_x_y / (p_x * p_y))\n",
    "    return mi"
   ]
  },
  {
   "cell_type": "code",
   "execution_count": 30,
   "metadata": {},
   "outputs": [
    {
     "name": "stdout",
     "output_type": "stream",
     "text": [
      "Взаимная информация признака physics с целевой переменной 0.018310514044706433\n",
      "Взаимная информация признака chemistry с целевой переменной 0.0036711220021946444\n",
      "Взаимная информация признака biology с целевой переменной 0.0022637017162383385\n",
      "Взаимная информация признака english с целевой переменной 0.0002319468679485839\n",
      "Взаимная информация признака geography с целевой переменной 1.9682676972689636e-05\n",
      "Взаимная информация признака history с целевой переменной 1.1370782112761783e-05\n"
     ]
    }
   ],
   "source": [
    "for cat in train_cat.columns:\n",
    "    print(f'Взаимная информация признака {cat} с целевой переменной {get_mi(train_cat[cat], target)}')"
   ]
  },
  {
   "cell_type": "code",
   "execution_count": 31,
   "metadata": {},
   "outputs": [
    {
     "name": "stdout",
     "output_type": "stream",
     "text": [
      "Взаимная информация признака years_of_experience с целевой переменной 0.0011498680108282845\n",
      "Взаимная информация признака qualification с целевой переменной 0.0013668439216665876\n"
     ]
    }
   ],
   "source": [
    "for cat in train_rank.columns:\n",
    "    print(f'Взаимная информация признака {cat} с целевой переменной {get_mi(train_rank[cat], target)}')"
   ]
  },
  {
   "cell_type": "markdown",
   "metadata": {},
   "source": [
    "Одномерный отбор не показал особой \"силы\" категориальных и ранговых признаков."
   ]
  },
  {
   "cell_type": "markdown",
   "metadata": {},
   "source": [
    "### 2.3 Добавление новых признаков"
   ]
  },
  {
   "cell_type": "markdown",
   "metadata": {},
   "source": [
    "#### 2.3.1 Суммарное количество предметов помимо математики у преподавателя"
   ]
  },
  {
   "cell_type": "code",
   "execution_count": 32,
   "metadata": {},
   "outputs": [
    {
     "name": "stdout",
     "output_type": "stream",
     "text": [
      "0.0    4381\n",
      "1.0    4252\n",
      "2.0    1216\n",
      "3.0     147\n",
      "4.0       4\n",
      "Name: subjects_num, dtype: int64\n"
     ]
    }
   ],
   "source": [
    "train_subjects = train_data[['physics','chemistry','biology','english','geography','history']].sum(axis=1) \n",
    "train_data['subjects_num'] = train_subjects\n",
    "\n",
    "test_subjects = test_data[['physics','chemistry','biology','english','geography','history']].sum(axis=1) \n",
    "test_data['subjects_num'] = test_subjects\n",
    "\n",
    "rank_features.append('subjects_num') # это ранговый признак\n",
    "\n",
    "print(train_data['subjects_num'].value_counts())"
   ]
  },
  {
   "cell_type": "markdown",
   "metadata": {},
   "source": [
    "#### 2.3.2 Скорость достижения квалификации"
   ]
  },
  {
   "cell_type": "code",
   "execution_count": 33,
   "metadata": {},
   "outputs": [],
   "source": [
    "train_qual_speed = train_data['qualification'] / train_data['age']\n",
    "train_data['qual_speed'] = train_qual_speed\n",
    "\n",
    "test_qual_speed = test_data['qualification'] / test_data['age']\n",
    "test_data['qual_speed'] = test_qual_speed\n",
    "\n",
    "num_features.append('qual_speed') # это количественный признак"
   ]
  },
  {
   "cell_type": "markdown",
   "metadata": {},
   "source": [
    "#### 2.3.3 Преподаватель в возрасте или молодой"
   ]
  },
  {
   "cell_type": "code",
   "execution_count": 34,
   "metadata": {},
   "outputs": [],
   "source": [
    "train_old = (train_data['age']>train_data['age'].quantile(.75)).astype('int64')\n",
    "train_data['old'] = train_old\n",
    "train_young = (train_data['age']<train_data['age'].quantile(.25)).astype('int64')\n",
    "train_data['young'] = train_young\n",
    "train_data['med'] = [1] * train_data.shape[0]\n",
    "train_data['med'] = train_data['med'] - train_data['young'] - train_data['old']\n",
    "\n",
    "test_old = (test_data['age']>test_data['age'].quantile(.75)).astype('int64')\n",
    "test_data['old'] = test_old\n",
    "test_young = (test_data['age']<test_data['age'].quantile(.25)).astype('int64')\n",
    "test_data['young'] = test_young\n",
    "test_data['med'] = [1] * test_data.shape[0]\n",
    "test_data['med'] = test_data['med'] - test_data['young'] - test_data['old']\n",
    "\n",
    "cat_features.append('old') # это категориальный признак\n",
    "cat_features.append('young') # это категориальный признак\n",
    "cat_features.append('med') # это категориальный признак"
   ]
  },
  {
   "cell_type": "markdown",
   "metadata": {},
   "source": [
    "#### 2.3.4 Дорогой или дешевый урок"
   ]
  },
  {
   "cell_type": "code",
   "execution_count": 35,
   "metadata": {},
   "outputs": [],
   "source": [
    "train_expensive = (train_data['lesson_price']>train_data['lesson_price'].quantile(.75)).astype('int64')\n",
    "train_data['expensive'] = train_expensive\n",
    "train_cheap = (train_data['lesson_price']<train_data['lesson_price'].quantile(.25)).astype('int64')\n",
    "train_data['cheap'] = train_cheap\n",
    "train_data['ok'] = [1] * train_data.shape[0]\n",
    "train_data['ok'] = train_data['ok'] - train_data['expensive'] - train_data['cheap']\n",
    "\n",
    "test_expensive = (test_data['lesson_price']>test_data['lesson_price'].quantile(.75)).astype('int64')\n",
    "test_data['expensive'] = test_expensive\n",
    "test_cheap = (test_data['lesson_price']<test_data['lesson_price'].quantile(.25)).astype('int64')\n",
    "test_data['cheap'] = test_cheap\n",
    "test_data['ok'] = [1] * test_data.shape[0]\n",
    "test_data['ok'] = test_data['ok'] - test_data['expensive'] - test_data['cheap']\n",
    "\n",
    "cat_features.append('expensive') # это категориальный признак\n",
    "cat_features.append('cheap') # это категориальный признак\n",
    "cat_features.append('ok') # это категориальный признак"
   ]
  },
  {
   "cell_type": "markdown",
   "metadata": {},
   "source": [
    "#### 2.3.5 Преподаватель с высокой квалификацией"
   ]
  },
  {
   "cell_type": "code",
   "execution_count": 36,
   "metadata": {},
   "outputs": [],
   "source": [
    "train_high_qualification = (train_data['qualification']>=3).astype('int64')\n",
    "train_data['high_qualification'] = train_high_qualification\n",
    "\n",
    "test_high_qualification = (test_data['qualification']>=3).astype('int64')\n",
    "test_data['high_qualification'] = test_high_qualification\n",
    "\n",
    "cat_features.append('high_qualification') # это категориальный признак"
   ]
  },
  {
   "cell_type": "markdown",
   "metadata": {},
   "source": [
    "Снова посмотрим на взаимосвязи между признаками."
   ]
  },
  {
   "cell_type": "code",
   "execution_count": 37,
   "metadata": {},
   "outputs": [
    {
     "data": {
      "text/html": [
       "<style  type=\"text/css\" >\n",
       "    #T_8cfe9bdc_3f16_11eb_ae8a_acde48001122row0_col0 {\n",
       "            background-color:  #b40426;\n",
       "            color:  #f1f1f1;\n",
       "        }    #T_8cfe9bdc_3f16_11eb_ae8a_acde48001122row0_col1 {\n",
       "            background-color:  #5f7fe8;\n",
       "            color:  #000000;\n",
       "        }    #T_8cfe9bdc_3f16_11eb_ae8a_acde48001122row0_col2 {\n",
       "            background-color:  #3b4cc0;\n",
       "            color:  #f1f1f1;\n",
       "        }    #T_8cfe9bdc_3f16_11eb_ae8a_acde48001122row0_col3 {\n",
       "            background-color:  #3b4cc0;\n",
       "            color:  #f1f1f1;\n",
       "        }    #T_8cfe9bdc_3f16_11eb_ae8a_acde48001122row0_col4 {\n",
       "            background-color:  #6485ec;\n",
       "            color:  #000000;\n",
       "        }    #T_8cfe9bdc_3f16_11eb_ae8a_acde48001122row1_col0 {\n",
       "            background-color:  #94b6ff;\n",
       "            color:  #000000;\n",
       "        }    #T_8cfe9bdc_3f16_11eb_ae8a_acde48001122row1_col1 {\n",
       "            background-color:  #b40426;\n",
       "            color:  #f1f1f1;\n",
       "        }    #T_8cfe9bdc_3f16_11eb_ae8a_acde48001122row1_col2 {\n",
       "            background-color:  #f6a283;\n",
       "            color:  #000000;\n",
       "        }    #T_8cfe9bdc_3f16_11eb_ae8a_acde48001122row1_col3 {\n",
       "            background-color:  #ee8468;\n",
       "            color:  #000000;\n",
       "        }    #T_8cfe9bdc_3f16_11eb_ae8a_acde48001122row1_col4 {\n",
       "            background-color:  #3b4cc0;\n",
       "            color:  #f1f1f1;\n",
       "        }    #T_8cfe9bdc_3f16_11eb_ae8a_acde48001122row2_col0 {\n",
       "            background-color:  #96b7ff;\n",
       "            color:  #000000;\n",
       "        }    #T_8cfe9bdc_3f16_11eb_ae8a_acde48001122row2_col1 {\n",
       "            background-color:  #f39577;\n",
       "            color:  #000000;\n",
       "        }    #T_8cfe9bdc_3f16_11eb_ae8a_acde48001122row2_col2 {\n",
       "            background-color:  #b40426;\n",
       "            color:  #f1f1f1;\n",
       "        }    #T_8cfe9bdc_3f16_11eb_ae8a_acde48001122row2_col3 {\n",
       "            background-color:  #f18f71;\n",
       "            color:  #000000;\n",
       "        }    #T_8cfe9bdc_3f16_11eb_ae8a_acde48001122row2_col4 {\n",
       "            background-color:  #80a3fa;\n",
       "            color:  #000000;\n",
       "        }    #T_8cfe9bdc_3f16_11eb_ae8a_acde48001122row3_col0 {\n",
       "            background-color:  #3b4cc0;\n",
       "            color:  #f1f1f1;\n",
       "        }    #T_8cfe9bdc_3f16_11eb_ae8a_acde48001122row3_col1 {\n",
       "            background-color:  #f39778;\n",
       "            color:  #000000;\n",
       "        }    #T_8cfe9bdc_3f16_11eb_ae8a_acde48001122row3_col2 {\n",
       "            background-color:  #f7b093;\n",
       "            color:  #000000;\n",
       "        }    #T_8cfe9bdc_3f16_11eb_ae8a_acde48001122row3_col3 {\n",
       "            background-color:  #b40426;\n",
       "            color:  #f1f1f1;\n",
       "        }    #T_8cfe9bdc_3f16_11eb_ae8a_acde48001122row3_col4 {\n",
       "            background-color:  #6788ee;\n",
       "            color:  #000000;\n",
       "        }    #T_8cfe9bdc_3f16_11eb_ae8a_acde48001122row4_col0 {\n",
       "            background-color:  #98b9ff;\n",
       "            color:  #000000;\n",
       "        }    #T_8cfe9bdc_3f16_11eb_ae8a_acde48001122row4_col1 {\n",
       "            background-color:  #3b4cc0;\n",
       "            color:  #f1f1f1;\n",
       "        }    #T_8cfe9bdc_3f16_11eb_ae8a_acde48001122row4_col2 {\n",
       "            background-color:  #5b7ae5;\n",
       "            color:  #000000;\n",
       "        }    #T_8cfe9bdc_3f16_11eb_ae8a_acde48001122row4_col3 {\n",
       "            background-color:  #9bbcff;\n",
       "            color:  #000000;\n",
       "        }    #T_8cfe9bdc_3f16_11eb_ae8a_acde48001122row4_col4 {\n",
       "            background-color:  #b40426;\n",
       "            color:  #f1f1f1;\n",
       "        }</style><table id=\"T_8cfe9bdc_3f16_11eb_ae8a_acde48001122\" ><thead>    <tr>        <th class=\"blank level0\" ></th>        <th class=\"col_heading level0 col0\" >age</th>        <th class=\"col_heading level0 col1\" >lesson_price</th>        <th class=\"col_heading level0 col2\" >mean_exam_points</th>        <th class=\"col_heading level0 col3\" >qual_speed</th>        <th class=\"col_heading level0 col4\" >choose</th>    </tr></thead><tbody>\n",
       "                <tr>\n",
       "                        <th id=\"T_8cfe9bdc_3f16_11eb_ae8a_acde48001122level0_row0\" class=\"row_heading level0 row0\" >age</th>\n",
       "                        <td id=\"T_8cfe9bdc_3f16_11eb_ae8a_acde48001122row0_col0\" class=\"data row0 col0\" >1</td>\n",
       "                        <td id=\"T_8cfe9bdc_3f16_11eb_ae8a_acde48001122row0_col1\" class=\"data row0 col1\" >0.00069</td>\n",
       "                        <td id=\"T_8cfe9bdc_3f16_11eb_ae8a_acde48001122row0_col2\" class=\"data row0 col2\" >0.0041</td>\n",
       "                        <td id=\"T_8cfe9bdc_3f16_11eb_ae8a_acde48001122row0_col3\" class=\"data row0 col3\" >-0.37</td>\n",
       "                        <td id=\"T_8cfe9bdc_3f16_11eb_ae8a_acde48001122row0_col4\" class=\"data row0 col4\" >0.017</td>\n",
       "            </tr>\n",
       "            <tr>\n",
       "                        <th id=\"T_8cfe9bdc_3f16_11eb_ae8a_acde48001122level0_row1\" class=\"row_heading level0 row1\" >lesson_price</th>\n",
       "                        <td id=\"T_8cfe9bdc_3f16_11eb_ae8a_acde48001122row1_col0\" class=\"data row1 col0\" >0.00069</td>\n",
       "                        <td id=\"T_8cfe9bdc_3f16_11eb_ae8a_acde48001122row1_col1\" class=\"data row1 col1\" >1</td>\n",
       "                        <td id=\"T_8cfe9bdc_3f16_11eb_ae8a_acde48001122row1_col2\" class=\"data row1 col2\" >0.73</td>\n",
       "                        <td id=\"T_8cfe9bdc_3f16_11eb_ae8a_acde48001122row1_col3\" class=\"data row1 col3\" >0.72</td>\n",
       "                        <td id=\"T_8cfe9bdc_3f16_11eb_ae8a_acde48001122row1_col4\" class=\"data row1 col4\" >-0.13</td>\n",
       "            </tr>\n",
       "            <tr>\n",
       "                        <th id=\"T_8cfe9bdc_3f16_11eb_ae8a_acde48001122level0_row2\" class=\"row_heading level0 row2\" >mean_exam_points</th>\n",
       "                        <td id=\"T_8cfe9bdc_3f16_11eb_ae8a_acde48001122row2_col0\" class=\"data row2 col0\" >0.0041</td>\n",
       "                        <td id=\"T_8cfe9bdc_3f16_11eb_ae8a_acde48001122row2_col1\" class=\"data row2 col1\" >0.73</td>\n",
       "                        <td id=\"T_8cfe9bdc_3f16_11eb_ae8a_acde48001122row2_col2\" class=\"data row2 col2\" >1</td>\n",
       "                        <td id=\"T_8cfe9bdc_3f16_11eb_ae8a_acde48001122row2_col3\" class=\"data row2 col3\" >0.69</td>\n",
       "                        <td id=\"T_8cfe9bdc_3f16_11eb_ae8a_acde48001122row2_col4\" class=\"data row2 col4\" >0.11</td>\n",
       "            </tr>\n",
       "            <tr>\n",
       "                        <th id=\"T_8cfe9bdc_3f16_11eb_ae8a_acde48001122level0_row3\" class=\"row_heading level0 row3\" >qual_speed</th>\n",
       "                        <td id=\"T_8cfe9bdc_3f16_11eb_ae8a_acde48001122row3_col0\" class=\"data row3 col0\" >-0.37</td>\n",
       "                        <td id=\"T_8cfe9bdc_3f16_11eb_ae8a_acde48001122row3_col1\" class=\"data row3 col1\" >0.72</td>\n",
       "                        <td id=\"T_8cfe9bdc_3f16_11eb_ae8a_acde48001122row3_col2\" class=\"data row3 col2\" >0.69</td>\n",
       "                        <td id=\"T_8cfe9bdc_3f16_11eb_ae8a_acde48001122row3_col3\" class=\"data row3 col3\" >1</td>\n",
       "                        <td id=\"T_8cfe9bdc_3f16_11eb_ae8a_acde48001122row3_col4\" class=\"data row3 col4\" >0.029</td>\n",
       "            </tr>\n",
       "            <tr>\n",
       "                        <th id=\"T_8cfe9bdc_3f16_11eb_ae8a_acde48001122level0_row4\" class=\"row_heading level0 row4\" >choose</th>\n",
       "                        <td id=\"T_8cfe9bdc_3f16_11eb_ae8a_acde48001122row4_col0\" class=\"data row4 col0\" >0.017</td>\n",
       "                        <td id=\"T_8cfe9bdc_3f16_11eb_ae8a_acde48001122row4_col1\" class=\"data row4 col1\" >-0.13</td>\n",
       "                        <td id=\"T_8cfe9bdc_3f16_11eb_ae8a_acde48001122row4_col2\" class=\"data row4 col2\" >0.11</td>\n",
       "                        <td id=\"T_8cfe9bdc_3f16_11eb_ae8a_acde48001122row4_col3\" class=\"data row4 col3\" >0.029</td>\n",
       "                        <td id=\"T_8cfe9bdc_3f16_11eb_ae8a_acde48001122row4_col4\" class=\"data row4 col4\" >1</td>\n",
       "            </tr>\n",
       "    </tbody></table>"
      ],
      "text/plain": [
       "<pandas.io.formats.style.Styler at 0x7f8f0aaf39e8>"
      ]
     },
     "execution_count": 37,
     "metadata": {},
     "output_type": "execute_result"
    }
   ],
   "source": [
    "corr_features = num_features + ['choose']\n",
    "corr = train_data[corr_features].corr()\n",
    "corr.style.background_gradient(cmap='coolwarm').set_precision(2)"
   ]
  },
  {
   "cell_type": "code",
   "execution_count": 38,
   "metadata": {},
   "outputs": [
    {
     "name": "stdout",
     "output_type": "stream",
     "text": [
      "Взаимная информация признака physics с целевой переменной 0.018310514044706433\n",
      "Взаимная информация признака chemistry с целевой переменной 0.0036711220021946444\n",
      "Взаимная информация признака biology с целевой переменной 0.0022637017162383385\n",
      "Взаимная информация признака english с целевой переменной 0.0002319468679485839\n",
      "Взаимная информация признака geography с целевой переменной 1.9682676972689636e-05\n",
      "Взаимная информация признака history с целевой переменной 1.1370782112761783e-05\n",
      "Взаимная информация признака old с целевой переменной 0.00031929509077941376\n",
      "Взаимная информация признака young с целевой переменной 4.473826036929156e-05\n",
      "Взаимная информация признака med с целевой переменной 9.94016088578342e-05\n",
      "Взаимная информация признака expensive с целевой переменной 0.0017034327194639263\n",
      "Взаимная информация признака cheap с целевой переменной 0.0070347725597272\n",
      "Взаимная информация признака ok с целевой переменной 0.0015281666634979069\n",
      "Взаимная информация признака high_qualification с целевой переменной 0.000980026549708136\n"
     ]
    }
   ],
   "source": [
    "for cat in cat_features:\n",
    "    if cat != 'choose':\n",
    "        print(f'Взаимная информация признака {cat} с целевой переменной {get_mi(train_data[cat], target)}')"
   ]
  },
  {
   "cell_type": "code",
   "execution_count": 39,
   "metadata": {},
   "outputs": [
    {
     "name": "stdout",
     "output_type": "stream",
     "text": [
      "Взаимная информация признака years_of_experience с целевой переменной 0.0011498680108282845\n",
      "Взаимная информация признака qualification с целевой переменной 0.0013668439216665876\n",
      "Взаимная информация признака subjects_num с целевой переменной 0.021435503006294005\n"
     ]
    }
   ],
   "source": [
    "for cat in rank_features:\n",
    "    if cat!='Id':\n",
    "        print(f'Взаимная информация признака {cat} с целевой переменной {get_mi(train_data[cat], target)}')"
   ]
  },
  {
   "cell_type": "markdown",
   "metadata": {},
   "source": [
    "Получилось, что у признака \"subjects_num\" и признака \"physics\" самая высокая взаимная информация. Удалим признаки \"english\", \"geography\", \"history\", 'old', 'young', 'med' и 'high_qualification' как неинформативные."
   ]
  },
  {
   "cell_type": "code",
   "execution_count": 40,
   "metadata": {},
   "outputs": [],
   "source": [
    "cat_features = ['physics', 'chemistry', 'biology', 'cheap','expensive', 'ok']\n",
    "rank_features = ['years_of_experience', 'qualification', 'subjects_num']\n",
    "num_features = ['age', 'lesson_price', 'mean_exam_points', 'qual_speed']\n",
    "target_feature = 'choose'\n",
    "id_feature = ['Id']"
   ]
  },
  {
   "cell_type": "code",
   "execution_count": 41,
   "metadata": {},
   "outputs": [],
   "source": [
    "train_num = train_data[num_features]\n",
    "train_rank = train_data[rank_features]\n",
    "train_cat = train_data[cat_features]\n",
    "target = train_data[target_feature]\n",
    "train_ids = train_data[id_feature]\n",
    "\n",
    "test_num = test_data[num_features]\n",
    "test_rank = test_data[rank_features]\n",
    "test_cat = test_data[cat_features]\n",
    "test_ids = test_data[id_feature]"
   ]
  },
  {
   "cell_type": "markdown",
   "metadata": {},
   "source": [
    "### 2.4 Масштабирование признаков"
   ]
  },
  {
   "cell_type": "markdown",
   "metadata": {},
   "source": [
    "Все категориальные признаки представляют из себя наборы из 0 и 1."
   ]
  },
  {
   "cell_type": "code",
   "execution_count": 42,
   "metadata": {},
   "outputs": [
    {
     "data": {
      "text/html": [
       "<div>\n",
       "<style scoped>\n",
       "    .dataframe tbody tr th:only-of-type {\n",
       "        vertical-align: middle;\n",
       "    }\n",
       "\n",
       "    .dataframe tbody tr th {\n",
       "        vertical-align: top;\n",
       "    }\n",
       "\n",
       "    .dataframe thead th {\n",
       "        text-align: right;\n",
       "    }\n",
       "</style>\n",
       "<table border=\"1\" class=\"dataframe\">\n",
       "  <thead>\n",
       "    <tr style=\"text-align: right;\">\n",
       "      <th></th>\n",
       "      <th>physics</th>\n",
       "      <th>chemistry</th>\n",
       "      <th>biology</th>\n",
       "      <th>cheap</th>\n",
       "      <th>expensive</th>\n",
       "      <th>ok</th>\n",
       "    </tr>\n",
       "  </thead>\n",
       "  <tbody>\n",
       "    <tr>\n",
       "      <th>count</th>\n",
       "      <td>10000.00000</td>\n",
       "      <td>10000.000000</td>\n",
       "      <td>10000.000000</td>\n",
       "      <td>10000.00000</td>\n",
       "      <td>10000.000000</td>\n",
       "      <td>10000.000000</td>\n",
       "    </tr>\n",
       "    <tr>\n",
       "      <th>mean</th>\n",
       "      <td>0.37060</td>\n",
       "      <td>0.121500</td>\n",
       "      <td>0.117200</td>\n",
       "      <td>0.21120</td>\n",
       "      <td>0.228400</td>\n",
       "      <td>0.560400</td>\n",
       "    </tr>\n",
       "    <tr>\n",
       "      <th>std</th>\n",
       "      <td>0.48299</td>\n",
       "      <td>0.326724</td>\n",
       "      <td>0.321675</td>\n",
       "      <td>0.40818</td>\n",
       "      <td>0.419823</td>\n",
       "      <td>0.496363</td>\n",
       "    </tr>\n",
       "    <tr>\n",
       "      <th>min</th>\n",
       "      <td>0.00000</td>\n",
       "      <td>0.000000</td>\n",
       "      <td>0.000000</td>\n",
       "      <td>0.00000</td>\n",
       "      <td>0.000000</td>\n",
       "      <td>0.000000</td>\n",
       "    </tr>\n",
       "    <tr>\n",
       "      <th>25%</th>\n",
       "      <td>0.00000</td>\n",
       "      <td>0.000000</td>\n",
       "      <td>0.000000</td>\n",
       "      <td>0.00000</td>\n",
       "      <td>0.000000</td>\n",
       "      <td>0.000000</td>\n",
       "    </tr>\n",
       "    <tr>\n",
       "      <th>50%</th>\n",
       "      <td>0.00000</td>\n",
       "      <td>0.000000</td>\n",
       "      <td>0.000000</td>\n",
       "      <td>0.00000</td>\n",
       "      <td>0.000000</td>\n",
       "      <td>1.000000</td>\n",
       "    </tr>\n",
       "    <tr>\n",
       "      <th>75%</th>\n",
       "      <td>1.00000</td>\n",
       "      <td>0.000000</td>\n",
       "      <td>0.000000</td>\n",
       "      <td>0.00000</td>\n",
       "      <td>0.000000</td>\n",
       "      <td>1.000000</td>\n",
       "    </tr>\n",
       "    <tr>\n",
       "      <th>max</th>\n",
       "      <td>1.00000</td>\n",
       "      <td>1.000000</td>\n",
       "      <td>1.000000</td>\n",
       "      <td>1.00000</td>\n",
       "      <td>1.000000</td>\n",
       "      <td>1.000000</td>\n",
       "    </tr>\n",
       "  </tbody>\n",
       "</table>\n",
       "</div>"
      ],
      "text/plain": [
       "           physics     chemistry       biology        cheap     expensive  \\\n",
       "count  10000.00000  10000.000000  10000.000000  10000.00000  10000.000000   \n",
       "mean       0.37060      0.121500      0.117200      0.21120      0.228400   \n",
       "std        0.48299      0.326724      0.321675      0.40818      0.419823   \n",
       "min        0.00000      0.000000      0.000000      0.00000      0.000000   \n",
       "25%        0.00000      0.000000      0.000000      0.00000      0.000000   \n",
       "50%        0.00000      0.000000      0.000000      0.00000      0.000000   \n",
       "75%        1.00000      0.000000      0.000000      0.00000      0.000000   \n",
       "max        1.00000      1.000000      1.000000      1.00000      1.000000   \n",
       "\n",
       "                 ok  \n",
       "count  10000.000000  \n",
       "mean       0.560400  \n",
       "std        0.496363  \n",
       "min        0.000000  \n",
       "25%        0.000000  \n",
       "50%        1.000000  \n",
       "75%        1.000000  \n",
       "max        1.000000  "
      ]
     },
     "execution_count": 42,
     "metadata": {},
     "output_type": "execute_result"
    }
   ],
   "source": [
    "train_cat.describe()"
   ]
  },
  {
   "cell_type": "markdown",
   "metadata": {},
   "source": [
    "Всем ранговым признакам поставим в соответствие наборы из 0 и 1, используя для этого dummy-переменные:"
   ]
  },
  {
   "cell_type": "code",
   "execution_count": 43,
   "metadata": {},
   "outputs": [
    {
     "name": "stdout",
     "output_type": "stream",
     "text": [
      "(10000, 19) (10000, 19)\n"
     ]
    },
    {
     "name": "stderr",
     "output_type": "stream",
     "text": [
      "/Users/annasmelova/anaconda3/lib/python3.7/site-packages/ipykernel_launcher.py:2: SettingWithCopyWarning: \n",
      "A value is trying to be set on a copy of a slice from a DataFrame.\n",
      "Try using .loc[row_indexer,col_indexer] = value instead\n",
      "\n",
      "See the caveats in the documentation: http://pandas.pydata.org/pandas-docs/stable/user_guide/indexing.html#returning-a-view-versus-a-copy\n",
      "  \n",
      "/Users/annasmelova/anaconda3/lib/python3.7/site-packages/ipykernel_launcher.py:6: SettingWithCopyWarning: \n",
      "A value is trying to be set on a copy of a slice from a DataFrame.\n",
      "Try using .loc[row_indexer,col_indexer] = value instead\n",
      "\n",
      "See the caveats in the documentation: http://pandas.pydata.org/pandas-docs/stable/user_guide/indexing.html#returning-a-view-versus-a-copy\n",
      "  \n"
     ]
    }
   ],
   "source": [
    "for feature in train_rank.columns:\n",
    "    train_rank[feature] = train_rank[feature].astype(object)\n",
    "train_rank = pd.get_dummies(train_rank)\n",
    "    \n",
    "for feature in test_rank.columns:\n",
    "    test_rank[feature] = test_rank[feature].astype(object)\n",
    "test_rank = pd.get_dummies(test_rank)\n",
    "\n",
    "print(train_rank.shape, test_rank.shape)"
   ]
  },
  {
   "cell_type": "code",
   "execution_count": 44,
   "metadata": {},
   "outputs": [
    {
     "name": "stdout",
     "output_type": "stream",
     "text": [
      "[ True  True  True  True  True  True  True  True  True  True  True  True\n",
      "  True  True  True  True  True  True  True]\n"
     ]
    }
   ],
   "source": [
    "# Проверим, что полученные признаки совпадают\n",
    "print(train_rank.columns == test_rank.columns)"
   ]
  },
  {
   "cell_type": "code",
   "execution_count": 45,
   "metadata": {},
   "outputs": [
    {
     "data": {
      "text/html": [
       "<div>\n",
       "<style scoped>\n",
       "    .dataframe tbody tr th:only-of-type {\n",
       "        vertical-align: middle;\n",
       "    }\n",
       "\n",
       "    .dataframe tbody tr th {\n",
       "        vertical-align: top;\n",
       "    }\n",
       "\n",
       "    .dataframe thead th {\n",
       "        text-align: right;\n",
       "    }\n",
       "</style>\n",
       "<table border=\"1\" class=\"dataframe\">\n",
       "  <thead>\n",
       "    <tr style=\"text-align: right;\">\n",
       "      <th></th>\n",
       "      <th>years_of_experience_0.0</th>\n",
       "      <th>years_of_experience_1.0</th>\n",
       "      <th>years_of_experience_2.0</th>\n",
       "      <th>years_of_experience_3.0</th>\n",
       "      <th>years_of_experience_4.0</th>\n",
       "      <th>years_of_experience_5.0</th>\n",
       "      <th>years_of_experience_6.0</th>\n",
       "      <th>years_of_experience_7.0</th>\n",
       "      <th>years_of_experience_8.0</th>\n",
       "      <th>years_of_experience_9.0</th>\n",
       "      <th>qualification_1.0</th>\n",
       "      <th>qualification_2.0</th>\n",
       "      <th>qualification_3.0</th>\n",
       "      <th>qualification_4.0</th>\n",
       "      <th>subjects_num_0.0</th>\n",
       "      <th>subjects_num_1.0</th>\n",
       "      <th>subjects_num_2.0</th>\n",
       "      <th>subjects_num_3.0</th>\n",
       "      <th>subjects_num_4.0</th>\n",
       "    </tr>\n",
       "  </thead>\n",
       "  <tbody>\n",
       "    <tr>\n",
       "      <th>count</th>\n",
       "      <td>10000.000000</td>\n",
       "      <td>10000.000000</td>\n",
       "      <td>10000.000000</td>\n",
       "      <td>10000.000000</td>\n",
       "      <td>10000.000000</td>\n",
       "      <td>10000.000000</td>\n",
       "      <td>10000.000000</td>\n",
       "      <td>10000.000000</td>\n",
       "      <td>10000.000000</td>\n",
       "      <td>10000.000000</td>\n",
       "      <td>10000.000000</td>\n",
       "      <td>10000.000000</td>\n",
       "      <td>10000.000000</td>\n",
       "      <td>10000.00000</td>\n",
       "      <td>10000.000000</td>\n",
       "      <td>10000.000000</td>\n",
       "      <td>10000.00000</td>\n",
       "      <td>10000.000000</td>\n",
       "      <td>10000.000000</td>\n",
       "    </tr>\n",
       "    <tr>\n",
       "      <th>mean</th>\n",
       "      <td>0.277400</td>\n",
       "      <td>0.184200</td>\n",
       "      <td>0.174300</td>\n",
       "      <td>0.154500</td>\n",
       "      <td>0.117700</td>\n",
       "      <td>0.058100</td>\n",
       "      <td>0.023400</td>\n",
       "      <td>0.007300</td>\n",
       "      <td>0.002200</td>\n",
       "      <td>0.000900</td>\n",
       "      <td>0.489100</td>\n",
       "      <td>0.303300</td>\n",
       "      <td>0.201800</td>\n",
       "      <td>0.00580</td>\n",
       "      <td>0.438100</td>\n",
       "      <td>0.425200</td>\n",
       "      <td>0.12160</td>\n",
       "      <td>0.014700</td>\n",
       "      <td>0.000400</td>\n",
       "    </tr>\n",
       "    <tr>\n",
       "      <th>std</th>\n",
       "      <td>0.447738</td>\n",
       "      <td>0.387667</td>\n",
       "      <td>0.379386</td>\n",
       "      <td>0.361445</td>\n",
       "      <td>0.322269</td>\n",
       "      <td>0.233944</td>\n",
       "      <td>0.151178</td>\n",
       "      <td>0.085132</td>\n",
       "      <td>0.046855</td>\n",
       "      <td>0.029988</td>\n",
       "      <td>0.499906</td>\n",
       "      <td>0.459707</td>\n",
       "      <td>0.401364</td>\n",
       "      <td>0.07594</td>\n",
       "      <td>0.496178</td>\n",
       "      <td>0.494398</td>\n",
       "      <td>0.32684</td>\n",
       "      <td>0.120355</td>\n",
       "      <td>0.019997</td>\n",
       "    </tr>\n",
       "    <tr>\n",
       "      <th>min</th>\n",
       "      <td>0.000000</td>\n",
       "      <td>0.000000</td>\n",
       "      <td>0.000000</td>\n",
       "      <td>0.000000</td>\n",
       "      <td>0.000000</td>\n",
       "      <td>0.000000</td>\n",
       "      <td>0.000000</td>\n",
       "      <td>0.000000</td>\n",
       "      <td>0.000000</td>\n",
       "      <td>0.000000</td>\n",
       "      <td>0.000000</td>\n",
       "      <td>0.000000</td>\n",
       "      <td>0.000000</td>\n",
       "      <td>0.00000</td>\n",
       "      <td>0.000000</td>\n",
       "      <td>0.000000</td>\n",
       "      <td>0.00000</td>\n",
       "      <td>0.000000</td>\n",
       "      <td>0.000000</td>\n",
       "    </tr>\n",
       "    <tr>\n",
       "      <th>25%</th>\n",
       "      <td>0.000000</td>\n",
       "      <td>0.000000</td>\n",
       "      <td>0.000000</td>\n",
       "      <td>0.000000</td>\n",
       "      <td>0.000000</td>\n",
       "      <td>0.000000</td>\n",
       "      <td>0.000000</td>\n",
       "      <td>0.000000</td>\n",
       "      <td>0.000000</td>\n",
       "      <td>0.000000</td>\n",
       "      <td>0.000000</td>\n",
       "      <td>0.000000</td>\n",
       "      <td>0.000000</td>\n",
       "      <td>0.00000</td>\n",
       "      <td>0.000000</td>\n",
       "      <td>0.000000</td>\n",
       "      <td>0.00000</td>\n",
       "      <td>0.000000</td>\n",
       "      <td>0.000000</td>\n",
       "    </tr>\n",
       "    <tr>\n",
       "      <th>50%</th>\n",
       "      <td>0.000000</td>\n",
       "      <td>0.000000</td>\n",
       "      <td>0.000000</td>\n",
       "      <td>0.000000</td>\n",
       "      <td>0.000000</td>\n",
       "      <td>0.000000</td>\n",
       "      <td>0.000000</td>\n",
       "      <td>0.000000</td>\n",
       "      <td>0.000000</td>\n",
       "      <td>0.000000</td>\n",
       "      <td>0.000000</td>\n",
       "      <td>0.000000</td>\n",
       "      <td>0.000000</td>\n",
       "      <td>0.00000</td>\n",
       "      <td>0.000000</td>\n",
       "      <td>0.000000</td>\n",
       "      <td>0.00000</td>\n",
       "      <td>0.000000</td>\n",
       "      <td>0.000000</td>\n",
       "    </tr>\n",
       "    <tr>\n",
       "      <th>75%</th>\n",
       "      <td>1.000000</td>\n",
       "      <td>0.000000</td>\n",
       "      <td>0.000000</td>\n",
       "      <td>0.000000</td>\n",
       "      <td>0.000000</td>\n",
       "      <td>0.000000</td>\n",
       "      <td>0.000000</td>\n",
       "      <td>0.000000</td>\n",
       "      <td>0.000000</td>\n",
       "      <td>0.000000</td>\n",
       "      <td>1.000000</td>\n",
       "      <td>1.000000</td>\n",
       "      <td>0.000000</td>\n",
       "      <td>0.00000</td>\n",
       "      <td>1.000000</td>\n",
       "      <td>1.000000</td>\n",
       "      <td>0.00000</td>\n",
       "      <td>0.000000</td>\n",
       "      <td>0.000000</td>\n",
       "    </tr>\n",
       "    <tr>\n",
       "      <th>max</th>\n",
       "      <td>1.000000</td>\n",
       "      <td>1.000000</td>\n",
       "      <td>1.000000</td>\n",
       "      <td>1.000000</td>\n",
       "      <td>1.000000</td>\n",
       "      <td>1.000000</td>\n",
       "      <td>1.000000</td>\n",
       "      <td>1.000000</td>\n",
       "      <td>1.000000</td>\n",
       "      <td>1.000000</td>\n",
       "      <td>1.000000</td>\n",
       "      <td>1.000000</td>\n",
       "      <td>1.000000</td>\n",
       "      <td>1.00000</td>\n",
       "      <td>1.000000</td>\n",
       "      <td>1.000000</td>\n",
       "      <td>1.00000</td>\n",
       "      <td>1.000000</td>\n",
       "      <td>1.000000</td>\n",
       "    </tr>\n",
       "  </tbody>\n",
       "</table>\n",
       "</div>"
      ],
      "text/plain": [
       "       years_of_experience_0.0  years_of_experience_1.0  \\\n",
       "count             10000.000000             10000.000000   \n",
       "mean                  0.277400                 0.184200   \n",
       "std                   0.447738                 0.387667   \n",
       "min                   0.000000                 0.000000   \n",
       "25%                   0.000000                 0.000000   \n",
       "50%                   0.000000                 0.000000   \n",
       "75%                   1.000000                 0.000000   \n",
       "max                   1.000000                 1.000000   \n",
       "\n",
       "       years_of_experience_2.0  years_of_experience_3.0  \\\n",
       "count             10000.000000             10000.000000   \n",
       "mean                  0.174300                 0.154500   \n",
       "std                   0.379386                 0.361445   \n",
       "min                   0.000000                 0.000000   \n",
       "25%                   0.000000                 0.000000   \n",
       "50%                   0.000000                 0.000000   \n",
       "75%                   0.000000                 0.000000   \n",
       "max                   1.000000                 1.000000   \n",
       "\n",
       "       years_of_experience_4.0  years_of_experience_5.0  \\\n",
       "count             10000.000000             10000.000000   \n",
       "mean                  0.117700                 0.058100   \n",
       "std                   0.322269                 0.233944   \n",
       "min                   0.000000                 0.000000   \n",
       "25%                   0.000000                 0.000000   \n",
       "50%                   0.000000                 0.000000   \n",
       "75%                   0.000000                 0.000000   \n",
       "max                   1.000000                 1.000000   \n",
       "\n",
       "       years_of_experience_6.0  years_of_experience_7.0  \\\n",
       "count             10000.000000             10000.000000   \n",
       "mean                  0.023400                 0.007300   \n",
       "std                   0.151178                 0.085132   \n",
       "min                   0.000000                 0.000000   \n",
       "25%                   0.000000                 0.000000   \n",
       "50%                   0.000000                 0.000000   \n",
       "75%                   0.000000                 0.000000   \n",
       "max                   1.000000                 1.000000   \n",
       "\n",
       "       years_of_experience_8.0  years_of_experience_9.0  qualification_1.0  \\\n",
       "count             10000.000000             10000.000000       10000.000000   \n",
       "mean                  0.002200                 0.000900           0.489100   \n",
       "std                   0.046855                 0.029988           0.499906   \n",
       "min                   0.000000                 0.000000           0.000000   \n",
       "25%                   0.000000                 0.000000           0.000000   \n",
       "50%                   0.000000                 0.000000           0.000000   \n",
       "75%                   0.000000                 0.000000           1.000000   \n",
       "max                   1.000000                 1.000000           1.000000   \n",
       "\n",
       "       qualification_2.0  qualification_3.0  qualification_4.0  \\\n",
       "count       10000.000000       10000.000000        10000.00000   \n",
       "mean            0.303300           0.201800            0.00580   \n",
       "std             0.459707           0.401364            0.07594   \n",
       "min             0.000000           0.000000            0.00000   \n",
       "25%             0.000000           0.000000            0.00000   \n",
       "50%             0.000000           0.000000            0.00000   \n",
       "75%             1.000000           0.000000            0.00000   \n",
       "max             1.000000           1.000000            1.00000   \n",
       "\n",
       "       subjects_num_0.0  subjects_num_1.0  subjects_num_2.0  subjects_num_3.0  \\\n",
       "count      10000.000000      10000.000000       10000.00000      10000.000000   \n",
       "mean           0.438100          0.425200           0.12160          0.014700   \n",
       "std            0.496178          0.494398           0.32684          0.120355   \n",
       "min            0.000000          0.000000           0.00000          0.000000   \n",
       "25%            0.000000          0.000000           0.00000          0.000000   \n",
       "50%            0.000000          0.000000           0.00000          0.000000   \n",
       "75%            1.000000          1.000000           0.00000          0.000000   \n",
       "max            1.000000          1.000000           1.00000          1.000000   \n",
       "\n",
       "       subjects_num_4.0  \n",
       "count      10000.000000  \n",
       "mean           0.000400  \n",
       "std            0.019997  \n",
       "min            0.000000  \n",
       "25%            0.000000  \n",
       "50%            0.000000  \n",
       "75%            0.000000  \n",
       "max            1.000000  "
      ]
     },
     "execution_count": 45,
     "metadata": {},
     "output_type": "execute_result"
    }
   ],
   "source": [
    "train_rank.describe()"
   ]
  },
  {
   "cell_type": "markdown",
   "metadata": {},
   "source": [
    "Отмасштабируем получившиеся количественные признаки методом нормализации."
   ]
  },
  {
   "cell_type": "code",
   "execution_count": 46,
   "metadata": {},
   "outputs": [],
   "source": [
    "# TRAIN\n",
    "train_num_min = np.min(train_num, axis=0)\n",
    "train_num_max = np.max(train_num, axis=0)\n",
    "\n",
    "# TEST\n",
    "test_num_min = np.min(test_num, axis=0)\n",
    "test_num_max = np.max(test_num, axis=0)\n",
    "\n",
    "#display(train_num_min, test_num_min, train_num_max, test_num_max)"
   ]
  },
  {
   "cell_type": "code",
   "execution_count": 47,
   "metadata": {},
   "outputs": [],
   "source": [
    "train_num_d = train_num_max - train_num_min\n",
    "test_num_d = test_num_max - test_num_min\n",
    "\n",
    "train_num_norm = train_num.to_numpy(copy='True')\n",
    "test_num_norm = test_num.to_numpy(copy='True')\n",
    "\n",
    "# вычтем из каждого значения признака минимум и поделим на разность между максимумом и минимумом\n",
    "for i in range(train_num_norm.shape[0]):\n",
    "    for j in range(train_num_norm.shape[1]):\n",
    "        train_num_norm[i][j] = (train_num_norm[i][j] - train_num_min[j]) / train_num_d[j]\n",
    "        \n",
    "for k in range(test_num_norm.shape[0]):\n",
    "    for m in range(test_num_norm.shape[1]):\n",
    "        test_num_norm[k][m] = (test_num_norm[k][m] - test_num_min[m]) / test_num_d[m]"
   ]
  },
  {
   "cell_type": "code",
   "execution_count": 48,
   "metadata": {},
   "outputs": [
    {
     "data": {
      "text/plain": [
       "array([0., 0., 0., 0.])"
      ]
     },
     "metadata": {},
     "output_type": "display_data"
    },
    {
     "data": {
      "text/plain": [
       "array([0., 0., 0., 0.])"
      ]
     },
     "metadata": {},
     "output_type": "display_data"
    },
    {
     "data": {
      "text/plain": [
       "array([1., 1., 1., 1.])"
      ]
     },
     "metadata": {},
     "output_type": "display_data"
    },
    {
     "data": {
      "text/plain": [
       "array([1., 1., 1., 1.])"
      ]
     },
     "metadata": {},
     "output_type": "display_data"
    }
   ],
   "source": [
    "# TRAIN\n",
    "train_num_min = np.min(train_num_norm, axis=0)\n",
    "train_num_max = np.max(train_num_norm, axis=0)\n",
    "\n",
    "# TEST\n",
    "test_num_min = np.min(test_num_norm, axis=0)\n",
    "test_num_max = np.max(test_num_norm, axis=0)\n",
    "\n",
    "display(train_num_min, test_num_min, train_num_max, test_num_max)"
   ]
  },
  {
   "cell_type": "markdown",
   "metadata": {},
   "source": [
    "### 2.5 Объединение признаков"
   ]
  },
  {
   "cell_type": "markdown",
   "metadata": {},
   "source": [
    "Объединим полученные признаки."
   ]
  },
  {
   "cell_type": "code",
   "execution_count": 49,
   "metadata": {},
   "outputs": [
    {
     "name": "stdout",
     "output_type": "stream",
     "text": [
      "Index(['Id'], dtype='object')\n",
      "Index(['age', 'lesson_price', 'mean_exam_points', 'qual_speed'], dtype='object')\n",
      "Index(['physics', 'chemistry', 'biology', 'cheap', 'expensive', 'ok'], dtype='object')\n",
      "Index(['years_of_experience_0.0', 'years_of_experience_1.0',\n",
      "       'years_of_experience_2.0', 'years_of_experience_3.0',\n",
      "       'years_of_experience_4.0', 'years_of_experience_5.0',\n",
      "       'years_of_experience_6.0', 'years_of_experience_7.0',\n",
      "       'years_of_experience_8.0', 'years_of_experience_9.0',\n",
      "       'qualification_1.0', 'qualification_2.0', 'qualification_3.0',\n",
      "       'qualification_4.0', 'subjects_num_0.0', 'subjects_num_1.0',\n",
      "       'subjects_num_2.0', 'subjects_num_3.0', 'subjects_num_4.0'],\n",
      "      dtype='object')\n"
     ]
    }
   ],
   "source": [
    "print(train_ids.columns)\n",
    "print(train_num.columns)\n",
    "print(train_cat.columns)\n",
    "print(train_rank.columns)"
   ]
  },
  {
   "cell_type": "code",
   "execution_count": 50,
   "metadata": {},
   "outputs": [
    {
     "data": {
      "text/plain": [
       "['age',\n",
       " 'lesson_price',\n",
       " 'mean_exam_points',\n",
       " 'qual_speed',\n",
       " 'physics',\n",
       " 'chemistry',\n",
       " 'biology',\n",
       " 'cheap',\n",
       " 'expensive',\n",
       " 'ok',\n",
       " 'years_of_experience_0.0',\n",
       " 'years_of_experience_1.0',\n",
       " 'years_of_experience_2.0',\n",
       " 'years_of_experience_3.0',\n",
       " 'years_of_experience_4.0',\n",
       " 'years_of_experience_5.0',\n",
       " 'years_of_experience_6.0',\n",
       " 'years_of_experience_7.0',\n",
       " 'years_of_experience_8.0',\n",
       " 'years_of_experience_9.0',\n",
       " 'qualification_1.0',\n",
       " 'qualification_2.0',\n",
       " 'qualification_3.0',\n",
       " 'qualification_4.0',\n",
       " 'subjects_num_0.0',\n",
       " 'subjects_num_1.0',\n",
       " 'subjects_num_2.0',\n",
       " 'subjects_num_3.0',\n",
       " 'subjects_num_4.0']"
      ]
     },
     "execution_count": 50,
     "metadata": {},
     "output_type": "execute_result"
    }
   ],
   "source": [
    "features = list(train_num.columns) + list(train_cat.columns) + list(train_rank.columns)\n",
    "features"
   ]
  },
  {
   "cell_type": "code",
   "execution_count": 51,
   "metadata": {},
   "outputs": [],
   "source": [
    "train_norm = np.hstack((train_num_norm, train_cat, train_rank))\n",
    "\n",
    "test_norm = np.hstack((test_num_norm, test_cat, test_rank))"
   ]
  },
  {
   "cell_type": "markdown",
   "metadata": {},
   "source": [
    "### 2.6 Балансировка данных"
   ]
  },
  {
   "cell_type": "markdown",
   "metadata": {},
   "source": [
    "Посмотрим, на то, как представлены целевые классы в выборке."
   ]
  },
  {
   "cell_type": "code",
   "execution_count": 52,
   "metadata": {},
   "outputs": [
    {
     "data": {
      "text/plain": [
       "0    8891\n",
       "1    1109\n",
       "Name: choose, dtype: int64"
      ]
     },
     "execution_count": 52,
     "metadata": {},
     "output_type": "execute_result"
    }
   ],
   "source": [
    "target.value_counts()"
   ]
  },
  {
   "cell_type": "code",
   "execution_count": 53,
   "metadata": {},
   "outputs": [
    {
     "data": {
      "text/plain": [
       "8.017132551848512"
      ]
     },
     "execution_count": 53,
     "metadata": {},
     "output_type": "execute_result"
    }
   ],
   "source": [
    "disbalance = target.value_counts()[0] / target.value_counts()[1]\n",
    "disbalance"
   ]
  },
  {
   "cell_type": "code",
   "execution_count": 54,
   "metadata": {},
   "outputs": [
    {
     "name": "stdout",
     "output_type": "stream",
     "text": [
      "До oversampling:\n",
      "0    8891\n",
      "1    1109\n",
      "Name: choose, dtype: int64\n",
      "\n",
      "После oversampling:\n",
      "1    8891\n",
      "0    8891\n",
      "Name: choose, dtype: int64\n"
     ]
    }
   ],
   "source": [
    "# Oversampling\n",
    "oversample = over_sampling.RandomOverSampler(sampling_strategy='minority')\n",
    "X_over_norm, y_over_norm = oversample.fit_resample(train_norm, target)\n",
    "print(f'До oversampling:\\n{target.value_counts()}')\n",
    "print(f'\\nПосле oversampling:\\n{y_over_norm.value_counts()}')"
   ]
  },
  {
   "cell_type": "code",
   "execution_count": 55,
   "metadata": {},
   "outputs": [
    {
     "name": "stdout",
     "output_type": "stream",
     "text": [
      "До undersampling:\n",
      "0    8891\n",
      "1    1109\n",
      "Name: choose, dtype: int64\n",
      "\n",
      "После undersampling:\n",
      "1    1109\n",
      "0    1109\n",
      "Name: choose, dtype: int64\n"
     ]
    }
   ],
   "source": [
    "# Undersampling\n",
    "undersample = under_sampling.RandomUnderSampler(sampling_strategy='majority')\n",
    "X_under_norm, y_under_norm = undersample.fit_resample(train_norm, target)\n",
    "print(f'До undersampling:\\n{target.value_counts()}')\n",
    "print(f'\\nПосле undersampling:\\n{y_under_norm.value_counts()}')"
   ]
  },
  {
   "cell_type": "code",
   "execution_count": 56,
   "metadata": {},
   "outputs": [
    {
     "data": {
      "text/plain": [
       "(2218, 29)"
      ]
     },
     "metadata": {},
     "output_type": "display_data"
    },
    {
     "data": {
      "text/plain": [
       "(10000, 29)"
      ]
     },
     "metadata": {},
     "output_type": "display_data"
    }
   ],
   "source": [
    "display(X_under_norm.shape, test_norm.shape)"
   ]
  },
  {
   "cell_type": "markdown",
   "metadata": {},
   "source": [
    "### 2.7 Обучающая и валидационная выборки"
   ]
  },
  {
   "cell_type": "markdown",
   "metadata": {},
   "source": [
    "Перемешивание датасета"
   ]
  },
  {
   "cell_type": "code",
   "execution_count": 57,
   "metadata": {},
   "outputs": [],
   "source": [
    "# перемешивание датасета\n",
    "np.random.seed(12)\n",
    "shuffle_index_o = np.random.permutation(X_over_norm.shape[0])\n",
    "X_on, y_on = X_over_norm[shuffle_index_o], y_over_norm[shuffle_index_o]\n",
    "\n",
    "shuffle_index_u = np.random.permutation(X_under_norm.shape[0])\n",
    "X_un, y_un = X_under_norm[shuffle_index_u], y_under_norm[shuffle_index_u]"
   ]
  },
  {
   "cell_type": "markdown",
   "metadata": {},
   "source": [
    "Разобьем тренировочные данные на обучающую и валидационную выборки. <br>\n",
    "Получится два набора данных с разным типом балансировки."
   ]
  },
  {
   "cell_type": "code",
   "execution_count": 58,
   "metadata": {},
   "outputs": [],
   "source": [
    "X_train_over_norm, X_valid_over_norm, y_train_over_norm, y_valid_over_norm = train_test_split(X_on, y_on, test_size=0.3, random_state=42)"
   ]
  },
  {
   "cell_type": "code",
   "execution_count": 59,
   "metadata": {},
   "outputs": [
    {
     "name": "stdout",
     "output_type": "stream",
     "text": [
      "(12447, 29) (5335, 29) (12447,) (5335,)\n"
     ]
    }
   ],
   "source": [
    "print(X_train_over_norm.shape, X_valid_over_norm.shape, y_train_over_norm.shape, y_valid_over_norm.shape)"
   ]
  },
  {
   "cell_type": "code",
   "execution_count": 60,
   "metadata": {},
   "outputs": [],
   "source": [
    "y_train_over_norm = np.array(y_train_over_norm)\n",
    "y_valid_over_norm = np.array(y_valid_over_norm)"
   ]
  },
  {
   "cell_type": "code",
   "execution_count": 61,
   "metadata": {},
   "outputs": [],
   "source": [
    "X_train_under_norm, X_valid_under_norm, y_train_under_norm, y_valid_under_norm = train_test_split(X_un, y_un, test_size=0.3, random_state=42)"
   ]
  },
  {
   "cell_type": "code",
   "execution_count": 62,
   "metadata": {},
   "outputs": [
    {
     "name": "stdout",
     "output_type": "stream",
     "text": [
      "(1552, 29) (666, 29) (1552,) (666,)\n"
     ]
    }
   ],
   "source": [
    "print(X_train_under_norm.shape, X_valid_under_norm.shape, y_train_under_norm.shape, y_valid_under_norm.shape)"
   ]
  },
  {
   "cell_type": "code",
   "execution_count": 63,
   "metadata": {},
   "outputs": [],
   "source": [
    "y_train_under_norm = np.array(y_train_under_norm)\n",
    "y_valid_under_norm = np.array(y_valid_under_norm)"
   ]
  },
  {
   "cell_type": "markdown",
   "metadata": {},
   "source": [
    "## Шаг 3: Подбор параметров модели"
   ]
  },
  {
   "cell_type": "markdown",
   "metadata": {},
   "source": [
    "Будем подбирать параметры моделей и записывать адекватные результаты в датафрейм."
   ]
  },
  {
   "cell_type": "code",
   "execution_count": 64,
   "metadata": {},
   "outputs": [],
   "source": [
    "models_results = pd.DataFrame()\n",
    "dataset = []\n",
    "accuracy_train_result = []\n",
    "accuracy_test_result = []\n",
    "roc_auc_train_result = []\n",
    "roc_auc_test_result = []\n",
    "model_params = []"
   ]
  },
  {
   "cell_type": "code",
   "execution_count": 72,
   "metadata": {},
   "outputs": [
    {
     "name": "stdout",
     "output_type": "stream",
     "text": [
      "76.25933959990358 0.7626011471149785\n",
      "76.1012183692596 0.7609978787315788\n"
     ]
    },
    {
     "data": {
      "image/png": "[encoded data removed]",
      "text/plain": [
       "<Figure size 1152x504 with 2 Axes>"
      ]
     },
     "metadata": {
      "needs_background": "light"
     },
     "output_type": "display_data"
    },
    {
     "name": "stdout",
     "output_type": "stream",
     "text": [
      "CPU times: user 11min 37s, sys: 7.42 s, total: 11min 45s\n",
      "Wall time: 11min 43s\n"
     ]
    }
   ],
   "source": [
    "%%time\n",
    "# Oversampling norm\n",
    "d_name = 'Oversampling_norm'\n",
    "n_trees=100\n",
    "adaboost = AdaBoost(n_trees=n_trees) \n",
    "adaboost.fit(X_train_over_norm, y_train_over_norm, X_valid_over_norm, y_valid_over_norm, get_err=True)\n",
    "        \n",
    "train_labels_over_norm = adaboost.predict(X_train_over_norm)\n",
    "test_labels_over_norm = adaboost.predict(X_valid_over_norm)\n",
    "        \n",
    "train_accuracy_over_norm = get_accuracy_metric(y_train_over_norm, train_labels_over_norm)\n",
    "test_accuracy_over_norm = get_accuracy_metric(y_valid_over_norm, test_labels_over_norm)\n",
    "        \n",
    "train_roc_over_norm = calc_roc_auc(train_labels_over_norm, y_train_over_norm)\n",
    "test_roc_over_norm = calc_roc_auc(test_labels_over_norm, y_valid_over_norm)\n",
    "        \n",
    "print(train_accuracy_over_norm, train_roc_over_norm)\n",
    "print(test_accuracy_over_norm, test_roc_over_norm)\n",
    "        \n",
    "for n in list(range(n_trees)):\n",
    "    if adaboost.test_roc[n] > 0.66965:\n",
    "        dataset.append(d_name)\n",
    "        accuracy_train_result.append(adaboost.train_accuracy[n])\n",
    "        accuracy_test_result.append(adaboost.test_accuracy[n])\n",
    "        roc_auc_train_result.append(adaboost.train_roc[n])\n",
    "        roc_auc_test_result.append(adaboost.test_roc[n])\n",
    "        model_params.append(n)\n",
    "        \n",
    "plot_errors(list(range(n_trees)), adaboost.train_roc, adaboost.test_roc, adaboost.train_accuracy, adaboost.test_accuracy)"
   ]
  },
  {
   "cell_type": "code",
   "execution_count": 73,
   "metadata": {},
   "outputs": [
    {
     "name": "stdout",
     "output_type": "stream",
     "text": [
      "78.54381443298969 0.7854286544609126\n",
      "76.72672672672672 0.7672065507539138\n"
     ]
    },
    {
     "data": {
      "image/png": "[encoded data removed]",
      "text/plain": [
       "<Figure size 1152x504 with 2 Axes>"
      ]
     },
     "metadata": {
      "needs_background": "light"
     },
     "output_type": "display_data"
    },
    {
     "name": "stdout",
     "output_type": "stream",
     "text": [
      "CPU times: user 12min 45s, sys: 5.39 s, total: 12min 50s\n",
      "Wall time: 13min 29s\n"
     ]
    }
   ],
   "source": [
    "%%time\n",
    "# Undersampling norm\n",
    "d_name = 'Undersampling_norm'\n",
    "n_trees=500\n",
    "adaboost = AdaBoost(n_trees=n_trees) \n",
    "adaboost.fit(X_train_under_norm, y_train_under_norm, X_valid_under_norm, y_valid_under_norm, get_err=True)\n",
    "        \n",
    "train_labels_under_norm = adaboost.predict(X_train_under_norm)\n",
    "test_labels_under_norm = adaboost.predict(X_valid_under_norm)\n",
    "        \n",
    "train_accuracy_under_norm = get_accuracy_metric(y_train_under_norm, train_labels_under_norm)\n",
    "test_accuracy_under_norm = get_accuracy_metric(y_valid_under_norm, test_labels_under_norm)\n",
    "        \n",
    "train_roc_under_norm = calc_roc_auc(train_labels_under_norm, y_train_under_norm)\n",
    "test_roc_under_norm = calc_roc_auc(test_labels_under_norm, y_valid_under_norm)\n",
    "        \n",
    "print(train_accuracy_under_norm, train_roc_under_norm)\n",
    "print(test_accuracy_under_norm, test_roc_under_norm)\n",
    "        \n",
    "for n in list(range(n_trees)):\n",
    "    if adaboost.test_roc[n] > 0.66965:\n",
    "        dataset.append(d_name)\n",
    "        accuracy_train_result.append(adaboost.train_accuracy[n])\n",
    "        accuracy_test_result.append(adaboost.test_accuracy[n])\n",
    "        roc_auc_train_result.append(adaboost.train_roc[n])\n",
    "        roc_auc_test_result.append(adaboost.test_roc[n])\n",
    "        model_params.append(n)\n",
    "        \n",
    "plot_errors(list(range(n_trees)), adaboost.train_roc, adaboost.test_roc, adaboost.train_accuracy, adaboost.test_accuracy)"
   ]
  },
  {
   "cell_type": "code",
   "execution_count": 74,
   "metadata": {},
   "outputs": [
    {
     "data": {
      "text/html": [
       "<div>\n",
       "<style scoped>\n",
       "    .dataframe tbody tr th:only-of-type {\n",
       "        vertical-align: middle;\n",
       "    }\n",
       "\n",
       "    .dataframe tbody tr th {\n",
       "        vertical-align: top;\n",
       "    }\n",
       "\n",
       "    .dataframe thead th {\n",
       "        text-align: right;\n",
       "    }\n",
       "</style>\n",
       "<table border=\"1\" class=\"dataframe\">\n",
       "  <thead>\n",
       "    <tr style=\"text-align: right;\">\n",
       "      <th></th>\n",
       "      <th>dataset</th>\n",
       "      <th>accuracy_train_result</th>\n",
       "      <th>accuracy_test_result</th>\n",
       "      <th>roc_auc_train_result</th>\n",
       "      <th>roc_auc_test_result</th>\n",
       "      <th>model_params</th>\n",
       "    </tr>\n",
       "  </thead>\n",
       "  <tbody>\n",
       "    <tr>\n",
       "      <th>365</th>\n",
       "      <td>Undersampling_norm</td>\n",
       "      <td>79.188144</td>\n",
       "      <td>77.327327</td>\n",
       "      <td>0.791892</td>\n",
       "      <td>0.773177</td>\n",
       "      <td>165</td>\n",
       "    </tr>\n",
       "    <tr>\n",
       "      <th>366</th>\n",
       "      <td>Undersampling_norm</td>\n",
       "      <td>79.188144</td>\n",
       "      <td>77.327327</td>\n",
       "      <td>0.791892</td>\n",
       "      <td>0.773177</td>\n",
       "      <td>166</td>\n",
       "    </tr>\n",
       "    <tr>\n",
       "      <th>317</th>\n",
       "      <td>Undersampling_norm</td>\n",
       "      <td>78.608247</td>\n",
       "      <td>77.327327</td>\n",
       "      <td>0.786094</td>\n",
       "      <td>0.773168</td>\n",
       "      <td>117</td>\n",
       "    </tr>\n",
       "    <tr>\n",
       "      <th>319</th>\n",
       "      <td>Undersampling_norm</td>\n",
       "      <td>79.059278</td>\n",
       "      <td>77.177177</td>\n",
       "      <td>0.790597</td>\n",
       "      <td>0.771698</td>\n",
       "      <td>119</td>\n",
       "    </tr>\n",
       "    <tr>\n",
       "      <th>374</th>\n",
       "      <td>Undersampling_norm</td>\n",
       "      <td>78.608247</td>\n",
       "      <td>77.177177</td>\n",
       "      <td>0.786089</td>\n",
       "      <td>0.771689</td>\n",
       "      <td>174</td>\n",
       "    </tr>\n",
       "    <tr>\n",
       "      <th>372</th>\n",
       "      <td>Undersampling_norm</td>\n",
       "      <td>78.543814</td>\n",
       "      <td>77.177177</td>\n",
       "      <td>0.785444</td>\n",
       "      <td>0.771689</td>\n",
       "      <td>172</td>\n",
       "    </tr>\n",
       "    <tr>\n",
       "      <th>368</th>\n",
       "      <td>Undersampling_norm</td>\n",
       "      <td>78.994845</td>\n",
       "      <td>77.177177</td>\n",
       "      <td>0.789958</td>\n",
       "      <td>0.771680</td>\n",
       "      <td>168</td>\n",
       "    </tr>\n",
       "    <tr>\n",
       "      <th>369</th>\n",
       "      <td>Undersampling_norm</td>\n",
       "      <td>78.801546</td>\n",
       "      <td>77.177177</td>\n",
       "      <td>0.788024</td>\n",
       "      <td>0.771680</td>\n",
       "      <td>169</td>\n",
       "    </tr>\n",
       "    <tr>\n",
       "      <th>367</th>\n",
       "      <td>Undersampling_norm</td>\n",
       "      <td>79.059278</td>\n",
       "      <td>77.177177</td>\n",
       "      <td>0.790602</td>\n",
       "      <td>0.771680</td>\n",
       "      <td>167</td>\n",
       "    </tr>\n",
       "    <tr>\n",
       "      <th>371</th>\n",
       "      <td>Undersampling_norm</td>\n",
       "      <td>78.672680</td>\n",
       "      <td>77.177177</td>\n",
       "      <td>0.786734</td>\n",
       "      <td>0.771680</td>\n",
       "      <td>171</td>\n",
       "    </tr>\n",
       "    <tr>\n",
       "      <th>370</th>\n",
       "      <td>Undersampling_norm</td>\n",
       "      <td>78.801546</td>\n",
       "      <td>77.177177</td>\n",
       "      <td>0.788024</td>\n",
       "      <td>0.771680</td>\n",
       "      <td>170</td>\n",
       "    </tr>\n",
       "    <tr>\n",
       "      <th>325</th>\n",
       "      <td>Undersampling_norm</td>\n",
       "      <td>78.608247</td>\n",
       "      <td>77.177177</td>\n",
       "      <td>0.786090</td>\n",
       "      <td>0.771671</td>\n",
       "      <td>125</td>\n",
       "    </tr>\n",
       "    <tr>\n",
       "      <th>373</th>\n",
       "      <td>Undersampling_norm</td>\n",
       "      <td>78.608247</td>\n",
       "      <td>77.027027</td>\n",
       "      <td>0.786089</td>\n",
       "      <td>0.770192</td>\n",
       "      <td>173</td>\n",
       "    </tr>\n",
       "    <tr>\n",
       "      <th>320</th>\n",
       "      <td>Undersampling_norm</td>\n",
       "      <td>78.801546</td>\n",
       "      <td>77.027027</td>\n",
       "      <td>0.788021</td>\n",
       "      <td>0.770183</td>\n",
       "      <td>120</td>\n",
       "    </tr>\n",
       "    <tr>\n",
       "      <th>338</th>\n",
       "      <td>Undersampling_norm</td>\n",
       "      <td>78.672680</td>\n",
       "      <td>77.027027</td>\n",
       "      <td>0.786737</td>\n",
       "      <td>0.770164</td>\n",
       "      <td>138</td>\n",
       "    </tr>\n",
       "    <tr>\n",
       "      <th>337</th>\n",
       "      <td>Undersampling_norm</td>\n",
       "      <td>78.737113</td>\n",
       "      <td>77.027027</td>\n",
       "      <td>0.787381</td>\n",
       "      <td>0.770164</td>\n",
       "      <td>137</td>\n",
       "    </tr>\n",
       "    <tr>\n",
       "      <th>315</th>\n",
       "      <td>Undersampling_norm</td>\n",
       "      <td>78.737113</td>\n",
       "      <td>77.027027</td>\n",
       "      <td>0.787382</td>\n",
       "      <td>0.770155</td>\n",
       "      <td>115</td>\n",
       "    </tr>\n",
       "    <tr>\n",
       "      <th>324</th>\n",
       "      <td>Undersampling_norm</td>\n",
       "      <td>78.672680</td>\n",
       "      <td>77.027027</td>\n",
       "      <td>0.786736</td>\n",
       "      <td>0.770155</td>\n",
       "      <td>124</td>\n",
       "    </tr>\n",
       "    <tr>\n",
       "      <th>316</th>\n",
       "      <td>Undersampling_norm</td>\n",
       "      <td>78.737113</td>\n",
       "      <td>77.027027</td>\n",
       "      <td>0.787382</td>\n",
       "      <td>0.770155</td>\n",
       "      <td>116</td>\n",
       "    </tr>\n",
       "    <tr>\n",
       "      <th>323</th>\n",
       "      <td>Undersampling_norm</td>\n",
       "      <td>78.737113</td>\n",
       "      <td>77.027027</td>\n",
       "      <td>0.787381</td>\n",
       "      <td>0.770155</td>\n",
       "      <td>123</td>\n",
       "    </tr>\n",
       "    <tr>\n",
       "      <th>154</th>\n",
       "      <td>Oversampling_norm</td>\n",
       "      <td>77.046678</td>\n",
       "      <td>76.944705</td>\n",
       "      <td>0.770468</td>\n",
       "      <td>0.769445</td>\n",
       "      <td>51</td>\n",
       "    </tr>\n",
       "    <tr>\n",
       "      <th>681</th>\n",
       "      <td>Undersampling_norm</td>\n",
       "      <td>78.608247</td>\n",
       "      <td>76.876877</td>\n",
       "      <td>0.786072</td>\n",
       "      <td>0.768713</td>\n",
       "      <td>481</td>\n",
       "    </tr>\n",
       "    <tr>\n",
       "      <th>358</th>\n",
       "      <td>Undersampling_norm</td>\n",
       "      <td>78.479381</td>\n",
       "      <td>76.876877</td>\n",
       "      <td>0.784802</td>\n",
       "      <td>0.768695</td>\n",
       "      <td>158</td>\n",
       "    </tr>\n",
       "    <tr>\n",
       "      <th>363</th>\n",
       "      <td>Undersampling_norm</td>\n",
       "      <td>78.221649</td>\n",
       "      <td>76.876877</td>\n",
       "      <td>0.782223</td>\n",
       "      <td>0.768695</td>\n",
       "      <td>163</td>\n",
       "    </tr>\n",
       "    <tr>\n",
       "      <th>360</th>\n",
       "      <td>Undersampling_norm</td>\n",
       "      <td>78.221649</td>\n",
       "      <td>76.876877</td>\n",
       "      <td>0.782223</td>\n",
       "      <td>0.768695</td>\n",
       "      <td>160</td>\n",
       "    </tr>\n",
       "    <tr>\n",
       "      <th>359</th>\n",
       "      <td>Undersampling_norm</td>\n",
       "      <td>78.350515</td>\n",
       "      <td>76.876877</td>\n",
       "      <td>0.783513</td>\n",
       "      <td>0.768695</td>\n",
       "      <td>159</td>\n",
       "    </tr>\n",
       "    <tr>\n",
       "      <th>346</th>\n",
       "      <td>Undersampling_norm</td>\n",
       "      <td>78.350515</td>\n",
       "      <td>76.876877</td>\n",
       "      <td>0.783520</td>\n",
       "      <td>0.768686</td>\n",
       "      <td>146</td>\n",
       "    </tr>\n",
       "    <tr>\n",
       "      <th>345</th>\n",
       "      <td>Undersampling_norm</td>\n",
       "      <td>78.479381</td>\n",
       "      <td>76.876877</td>\n",
       "      <td>0.784810</td>\n",
       "      <td>0.768686</td>\n",
       "      <td>145</td>\n",
       "    </tr>\n",
       "    <tr>\n",
       "      <th>339</th>\n",
       "      <td>Undersampling_norm</td>\n",
       "      <td>78.672680</td>\n",
       "      <td>76.876877</td>\n",
       "      <td>0.786737</td>\n",
       "      <td>0.768667</td>\n",
       "      <td>139</td>\n",
       "    </tr>\n",
       "    <tr>\n",
       "      <th>340</th>\n",
       "      <td>Undersampling_norm</td>\n",
       "      <td>78.737113</td>\n",
       "      <td>76.876877</td>\n",
       "      <td>0.787382</td>\n",
       "      <td>0.768667</td>\n",
       "      <td>140</td>\n",
       "    </tr>\n",
       "    <tr>\n",
       "      <th>...</th>\n",
       "      <td>...</td>\n",
       "      <td>...</td>\n",
       "      <td>...</td>\n",
       "      <td>...</td>\n",
       "      <td>...</td>\n",
       "      <td>...</td>\n",
       "    </tr>\n",
       "    <tr>\n",
       "      <th>15</th>\n",
       "      <td>Undersampling_norm</td>\n",
       "      <td>74.226804</td>\n",
       "      <td>71.021021</td>\n",
       "      <td>0.742269</td>\n",
       "      <td>0.710194</td>\n",
       "      <td>10</td>\n",
       "    </tr>\n",
       "    <tr>\n",
       "      <th>210</th>\n",
       "      <td>Undersampling_norm</td>\n",
       "      <td>74.226804</td>\n",
       "      <td>71.021021</td>\n",
       "      <td>0.742269</td>\n",
       "      <td>0.710194</td>\n",
       "      <td>10</td>\n",
       "    </tr>\n",
       "    <tr>\n",
       "      <th>114</th>\n",
       "      <td>Oversampling_norm</td>\n",
       "      <td>71.495139</td>\n",
       "      <td>70.627929</td>\n",
       "      <td>0.714960</td>\n",
       "      <td>0.706262</td>\n",
       "      <td>11</td>\n",
       "    </tr>\n",
       "    <tr>\n",
       "      <th>113</th>\n",
       "      <td>Oversampling_norm</td>\n",
       "      <td>71.495139</td>\n",
       "      <td>70.627929</td>\n",
       "      <td>0.714960</td>\n",
       "      <td>0.706262</td>\n",
       "      <td>10</td>\n",
       "    </tr>\n",
       "    <tr>\n",
       "      <th>14</th>\n",
       "      <td>Undersampling_norm</td>\n",
       "      <td>73.389175</td>\n",
       "      <td>70.570571</td>\n",
       "      <td>0.733879</td>\n",
       "      <td>0.705730</td>\n",
       "      <td>9</td>\n",
       "    </tr>\n",
       "    <tr>\n",
       "      <th>209</th>\n",
       "      <td>Undersampling_norm</td>\n",
       "      <td>73.389175</td>\n",
       "      <td>70.570571</td>\n",
       "      <td>0.733879</td>\n",
       "      <td>0.705730</td>\n",
       "      <td>9</td>\n",
       "    </tr>\n",
       "    <tr>\n",
       "      <th>11</th>\n",
       "      <td>Undersampling_norm</td>\n",
       "      <td>71.907216</td>\n",
       "      <td>70.420420</td>\n",
       "      <td>0.719112</td>\n",
       "      <td>0.704098</td>\n",
       "      <td>6</td>\n",
       "    </tr>\n",
       "    <tr>\n",
       "      <th>206</th>\n",
       "      <td>Undersampling_norm</td>\n",
       "      <td>71.907216</td>\n",
       "      <td>70.420420</td>\n",
       "      <td>0.719112</td>\n",
       "      <td>0.704098</td>\n",
       "      <td>6</td>\n",
       "    </tr>\n",
       "    <tr>\n",
       "      <th>12</th>\n",
       "      <td>Undersampling_norm</td>\n",
       "      <td>72.615979</td>\n",
       "      <td>70.420420</td>\n",
       "      <td>0.726210</td>\n",
       "      <td>0.704071</td>\n",
       "      <td>7</td>\n",
       "    </tr>\n",
       "    <tr>\n",
       "      <th>207</th>\n",
       "      <td>Undersampling_norm</td>\n",
       "      <td>72.615979</td>\n",
       "      <td>70.420420</td>\n",
       "      <td>0.726210</td>\n",
       "      <td>0.704071</td>\n",
       "      <td>7</td>\n",
       "    </tr>\n",
       "    <tr>\n",
       "      <th>13</th>\n",
       "      <td>Undersampling_norm</td>\n",
       "      <td>72.615979</td>\n",
       "      <td>70.420420</td>\n",
       "      <td>0.726210</td>\n",
       "      <td>0.704071</td>\n",
       "      <td>8</td>\n",
       "    </tr>\n",
       "    <tr>\n",
       "      <th>208</th>\n",
       "      <td>Undersampling_norm</td>\n",
       "      <td>72.615979</td>\n",
       "      <td>70.420420</td>\n",
       "      <td>0.726210</td>\n",
       "      <td>0.704071</td>\n",
       "      <td>8</td>\n",
       "    </tr>\n",
       "    <tr>\n",
       "      <th>5</th>\n",
       "      <td>Oversampling_norm</td>\n",
       "      <td>70.490881</td>\n",
       "      <td>69.840675</td>\n",
       "      <td>0.704909</td>\n",
       "      <td>0.698408</td>\n",
       "      <td>7</td>\n",
       "    </tr>\n",
       "    <tr>\n",
       "      <th>110</th>\n",
       "      <td>Oversampling_norm</td>\n",
       "      <td>70.490881</td>\n",
       "      <td>69.840675</td>\n",
       "      <td>0.704909</td>\n",
       "      <td>0.698408</td>\n",
       "      <td>7</td>\n",
       "    </tr>\n",
       "    <tr>\n",
       "      <th>4</th>\n",
       "      <td>Oversampling_norm</td>\n",
       "      <td>69.944565</td>\n",
       "      <td>69.522024</td>\n",
       "      <td>0.699451</td>\n",
       "      <td>0.695211</td>\n",
       "      <td>6</td>\n",
       "    </tr>\n",
       "    <tr>\n",
       "      <th>109</th>\n",
       "      <td>Oversampling_norm</td>\n",
       "      <td>69.944565</td>\n",
       "      <td>69.522024</td>\n",
       "      <td>0.699451</td>\n",
       "      <td>0.695211</td>\n",
       "      <td>6</td>\n",
       "    </tr>\n",
       "    <tr>\n",
       "      <th>107</th>\n",
       "      <td>Oversampling_norm</td>\n",
       "      <td>69.944565</td>\n",
       "      <td>69.522024</td>\n",
       "      <td>0.699451</td>\n",
       "      <td>0.695211</td>\n",
       "      <td>4</td>\n",
       "    </tr>\n",
       "    <tr>\n",
       "      <th>108</th>\n",
       "      <td>Oversampling_norm</td>\n",
       "      <td>69.944565</td>\n",
       "      <td>69.522024</td>\n",
       "      <td>0.699451</td>\n",
       "      <td>0.695211</td>\n",
       "      <td>5</td>\n",
       "    </tr>\n",
       "    <tr>\n",
       "      <th>2</th>\n",
       "      <td>Oversampling_norm</td>\n",
       "      <td>69.944565</td>\n",
       "      <td>69.522024</td>\n",
       "      <td>0.699451</td>\n",
       "      <td>0.695211</td>\n",
       "      <td>4</td>\n",
       "    </tr>\n",
       "    <tr>\n",
       "      <th>3</th>\n",
       "      <td>Oversampling_norm</td>\n",
       "      <td>69.944565</td>\n",
       "      <td>69.522024</td>\n",
       "      <td>0.699451</td>\n",
       "      <td>0.695211</td>\n",
       "      <td>5</td>\n",
       "    </tr>\n",
       "    <tr>\n",
       "      <th>106</th>\n",
       "      <td>Oversampling_norm</td>\n",
       "      <td>69.615168</td>\n",
       "      <td>69.165886</td>\n",
       "      <td>0.696155</td>\n",
       "      <td>0.691654</td>\n",
       "      <td>3</td>\n",
       "    </tr>\n",
       "    <tr>\n",
       "      <th>1</th>\n",
       "      <td>Oversampling_norm</td>\n",
       "      <td>69.615168</td>\n",
       "      <td>69.165886</td>\n",
       "      <td>0.696155</td>\n",
       "      <td>0.691654</td>\n",
       "      <td>3</td>\n",
       "    </tr>\n",
       "    <tr>\n",
       "      <th>204</th>\n",
       "      <td>Undersampling_norm</td>\n",
       "      <td>70.489691</td>\n",
       "      <td>68.918919</td>\n",
       "      <td>0.704999</td>\n",
       "      <td>0.688974</td>\n",
       "      <td>4</td>\n",
       "    </tr>\n",
       "    <tr>\n",
       "      <th>9</th>\n",
       "      <td>Undersampling_norm</td>\n",
       "      <td>70.489691</td>\n",
       "      <td>68.918919</td>\n",
       "      <td>0.704999</td>\n",
       "      <td>0.688974</td>\n",
       "      <td>4</td>\n",
       "    </tr>\n",
       "    <tr>\n",
       "      <th>0</th>\n",
       "      <td>Oversampling_norm</td>\n",
       "      <td>68.635012</td>\n",
       "      <td>68.378632</td>\n",
       "      <td>0.686359</td>\n",
       "      <td>0.683765</td>\n",
       "      <td>2</td>\n",
       "    </tr>\n",
       "    <tr>\n",
       "      <th>105</th>\n",
       "      <td>Oversampling_norm</td>\n",
       "      <td>68.635012</td>\n",
       "      <td>68.378632</td>\n",
       "      <td>0.686359</td>\n",
       "      <td>0.683765</td>\n",
       "      <td>2</td>\n",
       "    </tr>\n",
       "    <tr>\n",
       "      <th>8</th>\n",
       "      <td>Undersampling_norm</td>\n",
       "      <td>69.136598</td>\n",
       "      <td>67.717718</td>\n",
       "      <td>0.691351</td>\n",
       "      <td>0.677179</td>\n",
       "      <td>3</td>\n",
       "    </tr>\n",
       "    <tr>\n",
       "      <th>203</th>\n",
       "      <td>Undersampling_norm</td>\n",
       "      <td>69.136598</td>\n",
       "      <td>67.717718</td>\n",
       "      <td>0.691351</td>\n",
       "      <td>0.677179</td>\n",
       "      <td>3</td>\n",
       "    </tr>\n",
       "    <tr>\n",
       "      <th>205</th>\n",
       "      <td>Undersampling_norm</td>\n",
       "      <td>70.618557</td>\n",
       "      <td>67.417417</td>\n",
       "      <td>0.706198</td>\n",
       "      <td>0.674131</td>\n",
       "      <td>5</td>\n",
       "    </tr>\n",
       "    <tr>\n",
       "      <th>10</th>\n",
       "      <td>Undersampling_norm</td>\n",
       "      <td>70.618557</td>\n",
       "      <td>67.417417</td>\n",
       "      <td>0.706198</td>\n",
       "      <td>0.674131</td>\n",
       "      <td>5</td>\n",
       "    </tr>\n",
       "  </tbody>\n",
       "</table>\n",
       "<p>700 rows × 6 columns</p>\n",
       "</div>"
      ],
      "text/plain": [
       "                dataset  accuracy_train_result  accuracy_test_result  \\\n",
       "365  Undersampling_norm              79.188144             77.327327   \n",
       "366  Undersampling_norm              79.188144             77.327327   \n",
       "317  Undersampling_norm              78.608247             77.327327   \n",
       "319  Undersampling_norm              79.059278             77.177177   \n",
       "374  Undersampling_norm              78.608247             77.177177   \n",
       "..                  ...                    ...                   ...   \n",
       "105   Oversampling_norm              68.635012             68.378632   \n",
       "8    Undersampling_norm              69.136598             67.717718   \n",
       "203  Undersampling_norm              69.136598             67.717718   \n",
       "205  Undersampling_norm              70.618557             67.417417   \n",
       "10   Undersampling_norm              70.618557             67.417417   \n",
       "\n",
       "     roc_auc_train_result  roc_auc_test_result  model_params  \n",
       "365              0.791892             0.773177           165  \n",
       "366              0.791892             0.773177           166  \n",
       "317              0.786094             0.773168           117  \n",
       "319              0.790597             0.771698           119  \n",
       "374              0.786089             0.771689           174  \n",
       "..                    ...                  ...           ...  \n",
       "105              0.686359             0.683765             2  \n",
       "8                0.691351             0.677179             3  \n",
       "203              0.691351             0.677179             3  \n",
       "205              0.706198             0.674131             5  \n",
       "10               0.706198             0.674131             5  \n",
       "\n",
       "[700 rows x 6 columns]"
      ]
     },
     "execution_count": 74,
     "metadata": {},
     "output_type": "execute_result"
    }
   ],
   "source": [
    "models_results = pd.DataFrame()\n",
    "models_results['dataset'] = dataset\n",
    "models_results['accuracy_train_result'] = accuracy_train_result\n",
    "models_results['accuracy_test_result'] = accuracy_test_result\n",
    "models_results['roc_auc_train_result'] = roc_auc_train_result\n",
    "models_results['roc_auc_test_result'] = roc_auc_test_result\n",
    "models_results['model_params'] = model_params\n",
    "models_results.sort_values(['roc_auc_test_result'], ascending=False)"
   ]
  },
  {
   "cell_type": "markdown",
   "metadata": {},
   "source": [
    "Лучший результат показал набор Oversampling_norm с параметром 50 деревьев. На данном наборе почти совсем не наблюдается переобучение. Обучим на нем весь набор данных. В целом видно, что с увеличением количества деревьев, точность выходит на асимптоту."
   ]
  },
  {
   "cell_type": "code",
   "execution_count": 75,
   "metadata": {},
   "outputs": [
    {
     "name": "stdout",
     "output_type": "stream",
     "text": [
      "Accuracy: 76.02069508491734\n",
      "ROC_AUC:0.7602069508491733\n",
      "CPU times: user 6min 3s, sys: 3.54 s, total: 6min 6s\n",
      "Wall time: 5min 57s\n"
     ]
    }
   ],
   "source": [
    "%%time\n",
    "y_over_norm = np.array(y_over_norm)\n",
    "adaboost_over_norm = AdaBoost(n_trees=50) \n",
    "adaboost_over_norm.fit(X_over_norm, y_over_norm, X_over_norm, y_over_norm, get_err=False)\n",
    "        \n",
    "labels_over_norm = adaboost_over_norm.predict(X_over_norm)\n",
    "accuracy_over_norm = get_accuracy_metric(y_over_norm, labels_over_norm)\n",
    "roc_over_norm = calc_roc_auc(labels_over_norm, y_over_norm)\n",
    "print(f'Accuracy: {accuracy_over_norm}\\nROC_AUC:{roc_over_norm}')"
   ]
  },
  {
   "cell_type": "code",
   "execution_count": 76,
   "metadata": {},
   "outputs": [
    {
     "data": {
      "text/plain": [
       "array([0.49740505, 0.50461986, 0.49355131, 0.5002933 , 0.50535083,\n",
       "       0.50753507, 0.49687964, 0.50704098, 0.49083643, 0.50432656,\n",
       "       0.50076806, 0.49479236, 0.49775201, 0.49770085, 0.50432656])"
      ]
     },
     "execution_count": 76,
     "metadata": {},
     "output_type": "execute_result"
    }
   ],
   "source": [
    "test_labels_pred = adaboost_over_norm.predict(test_norm)\n",
    "test_labels_pred[:15]"
   ]
  },
  {
   "cell_type": "code",
   "execution_count": 77,
   "metadata": {},
   "outputs": [
    {
     "data": {
      "text/html": [
       "<div>\n",
       "<style scoped>\n",
       "    .dataframe tbody tr th:only-of-type {\n",
       "        vertical-align: middle;\n",
       "    }\n",
       "\n",
       "    .dataframe tbody tr th {\n",
       "        vertical-align: top;\n",
       "    }\n",
       "\n",
       "    .dataframe thead th {\n",
       "        text-align: right;\n",
       "    }\n",
       "</style>\n",
       "<table border=\"1\" class=\"dataframe\">\n",
       "  <thead>\n",
       "    <tr style=\"text-align: right;\">\n",
       "      <th></th>\n",
       "      <th>Id</th>\n",
       "      <th>choose</th>\n",
       "    </tr>\n",
       "  </thead>\n",
       "  <tbody>\n",
       "    <tr>\n",
       "      <th>0</th>\n",
       "      <td>10000</td>\n",
       "      <td>0.5</td>\n",
       "    </tr>\n",
       "    <tr>\n",
       "      <th>1</th>\n",
       "      <td>10001</td>\n",
       "      <td>0.5</td>\n",
       "    </tr>\n",
       "    <tr>\n",
       "      <th>2</th>\n",
       "      <td>10002</td>\n",
       "      <td>0.5</td>\n",
       "    </tr>\n",
       "    <tr>\n",
       "      <th>3</th>\n",
       "      <td>10003</td>\n",
       "      <td>0.5</td>\n",
       "    </tr>\n",
       "    <tr>\n",
       "      <th>4</th>\n",
       "      <td>10004</td>\n",
       "      <td>0.5</td>\n",
       "    </tr>\n",
       "  </tbody>\n",
       "</table>\n",
       "</div>"
      ],
      "text/plain": [
       "      Id  choose\n",
       "0  10000     0.5\n",
       "1  10001     0.5\n",
       "2  10002     0.5\n",
       "3  10003     0.5\n",
       "4  10004     0.5"
      ]
     },
     "execution_count": 77,
     "metadata": {},
     "output_type": "execute_result"
    }
   ],
   "source": [
    "# Записываем результат в файл\n",
    "submission_data = pd.read_csv('classification-choose-tutors/sample_submission.csv')\n",
    "submission_data.head()"
   ]
  },
  {
   "cell_type": "code",
   "execution_count": 78,
   "metadata": {},
   "outputs": [],
   "source": [
    "submission_data['choose'] = test_labels_pred\n",
    "submission_data.to_csv('classification-choose-tutors/submissions/submission_3(pr).csv', index=False)"
   ]
  },
  {
   "cell_type": "markdown",
   "metadata": {},
   "source": [
    "**Результат на kaggle:** 0.95991"
   ]
  },
  {
   "cell_type": "markdown",
   "metadata": {},
   "source": [
    "Попробуем Undersampling для 5000 деревьев."
   ]
  },
  {
   "cell_type": "code",
   "execution_count": 79,
   "metadata": {},
   "outputs": [
    {
     "name": "stdout",
     "output_type": "stream",
     "text": [
      "Accuracy: 79.30568079350766\n",
      "ROC_AUC:0.7930568079350766\n",
      "CPU times: user 1h 13min 45s, sys: 10.5 s, total: 1h 13min 55s\n",
      "Wall time: 1h 44min 49s\n"
     ]
    }
   ],
   "source": [
    "%%time\n",
    "y_under_norm = np.array(y_under_norm)\n",
    "adaboost_under_norm = AdaBoost(n_trees=5000) \n",
    "adaboost_under_norm.fit(X_under_norm, y_under_norm, X_under_norm, y_under_norm, get_err=False)\n",
    "        \n",
    "labels_under_norm = adaboost_under_norm.predict(X_under_norm)\n",
    "accuracy_under_norm = get_accuracy_metric(y_under_norm, labels_under_norm)\n",
    "roc_under_norm = calc_roc_auc(labels_under_norm, y_under_norm)\n",
    "print(f'Accuracy: {accuracy_under_norm}\\nROC_AUC:{roc_under_norm}')"
   ]
  },
  {
   "cell_type": "code",
   "execution_count": 80,
   "metadata": {},
   "outputs": [
    {
     "data": {
      "text/plain": [
       "array([0.49995953, 0.50006989, 0.49988306, 0.49992635, 0.50003598,\n",
       "       0.50024625, 0.49994282, 0.50005994, 0.49968432, 0.50006503,\n",
       "       0.50007004, 0.49988346, 0.49997642, 0.49996014, 0.50006585])"
      ]
     },
     "execution_count": 80,
     "metadata": {},
     "output_type": "execute_result"
    }
   ],
   "source": [
    "test_labels_pred_under = adaboost_under_norm.predict(test_norm)\n",
    "test_labels_pred_under[:15]"
   ]
  },
  {
   "cell_type": "code",
   "execution_count": 81,
   "metadata": {},
   "outputs": [
    {
     "data": {
      "text/html": [
       "<div>\n",
       "<style scoped>\n",
       "    .dataframe tbody tr th:only-of-type {\n",
       "        vertical-align: middle;\n",
       "    }\n",
       "\n",
       "    .dataframe tbody tr th {\n",
       "        vertical-align: top;\n",
       "    }\n",
       "\n",
       "    .dataframe thead th {\n",
       "        text-align: right;\n",
       "    }\n",
       "</style>\n",
       "<table border=\"1\" class=\"dataframe\">\n",
       "  <thead>\n",
       "    <tr style=\"text-align: right;\">\n",
       "      <th></th>\n",
       "      <th>Id</th>\n",
       "      <th>choose</th>\n",
       "    </tr>\n",
       "  </thead>\n",
       "  <tbody>\n",
       "    <tr>\n",
       "      <th>0</th>\n",
       "      <td>10000</td>\n",
       "      <td>0.5</td>\n",
       "    </tr>\n",
       "    <tr>\n",
       "      <th>1</th>\n",
       "      <td>10001</td>\n",
       "      <td>0.5</td>\n",
       "    </tr>\n",
       "    <tr>\n",
       "      <th>2</th>\n",
       "      <td>10002</td>\n",
       "      <td>0.5</td>\n",
       "    </tr>\n",
       "    <tr>\n",
       "      <th>3</th>\n",
       "      <td>10003</td>\n",
       "      <td>0.5</td>\n",
       "    </tr>\n",
       "    <tr>\n",
       "      <th>4</th>\n",
       "      <td>10004</td>\n",
       "      <td>0.5</td>\n",
       "    </tr>\n",
       "  </tbody>\n",
       "</table>\n",
       "</div>"
      ],
      "text/plain": [
       "      Id  choose\n",
       "0  10000     0.5\n",
       "1  10001     0.5\n",
       "2  10002     0.5\n",
       "3  10003     0.5\n",
       "4  10004     0.5"
      ]
     },
     "execution_count": 81,
     "metadata": {},
     "output_type": "execute_result"
    }
   ],
   "source": [
    "# Записываем результат в файл\n",
    "submission_data = pd.read_csv('classification-choose-tutors/sample_submission.csv')\n",
    "submission_data.head()"
   ]
  },
  {
   "cell_type": "code",
   "execution_count": 82,
   "metadata": {},
   "outputs": [],
   "source": [
    "submission_data['choose'] = test_labels_pred_under\n",
    "submission_data.to_csv('classification-choose-tutors/submissions/submission_3(pr)_2.csv', index=False)"
   ]
  },
  {
   "cell_type": "markdown",
   "metadata": {},
   "source": [
    "**Результат на kaggle:** 0.95183"
   ]
  },
  {
   "cell_type": "markdown",
   "metadata": {},
   "source": [
    "И Oversampling для 100."
   ]
  },
  {
   "cell_type": "code",
   "execution_count": 87,
   "metadata": {},
   "outputs": [
    {
     "name": "stdout",
     "output_type": "stream",
     "text": [
      "Accuracy: 75.01968282532899\n",
      "ROC_AUC:0.7501968282532898\n",
      "CPU times: user 11min 34s, sys: 7.3 s, total: 11min 41s\n",
      "Wall time: 11min 22s\n"
     ]
    }
   ],
   "source": [
    "%%time\n",
    "y_over_norm = np.array(y_over_norm)\n",
    "adaboost_over_norm = AdaBoost(n_trees=100) \n",
    "adaboost_over_norm.fit(X_over_norm, y_over_norm, X_over_norm, y_over_norm, get_err=False)\n",
    "        \n",
    "labels_over_norm = adaboost_over_norm.predict(X_over_norm)\n",
    "accuracy_over_norm = get_accuracy_metric(y_over_norm, labels_over_norm)\n",
    "roc_over_norm = calc_roc_auc(labels_over_norm, y_over_norm)\n",
    "print(f'Accuracy: {accuracy_over_norm}\\nROC_AUC:{roc_over_norm}')"
   ]
  },
  {
   "cell_type": "code",
   "execution_count": 88,
   "metadata": {},
   "outputs": [
    {
     "data": {
      "text/plain": [
       "array([0.49838873, 0.50315994, 0.49648121, 0.50018879, 0.50283087,\n",
       "       0.50377331, 0.4979312 , 0.50352872, 0.49633737, 0.50218509,\n",
       "       0.50042377, 0.49689806, 0.49836299, 0.49847646, 0.50218509])"
      ]
     },
     "execution_count": 88,
     "metadata": {},
     "output_type": "execute_result"
    }
   ],
   "source": [
    "test_labels_pred_over = adaboost_over_norm.predict(test_norm)\n",
    "test_labels_pred_over[:15]"
   ]
  },
  {
   "cell_type": "code",
   "execution_count": 89,
   "metadata": {},
   "outputs": [
    {
     "data": {
      "text/html": [
       "<div>\n",
       "<style scoped>\n",
       "    .dataframe tbody tr th:only-of-type {\n",
       "        vertical-align: middle;\n",
       "    }\n",
       "\n",
       "    .dataframe tbody tr th {\n",
       "        vertical-align: top;\n",
       "    }\n",
       "\n",
       "    .dataframe thead th {\n",
       "        text-align: right;\n",
       "    }\n",
       "</style>\n",
       "<table border=\"1\" class=\"dataframe\">\n",
       "  <thead>\n",
       "    <tr style=\"text-align: right;\">\n",
       "      <th></th>\n",
       "      <th>Id</th>\n",
       "      <th>choose</th>\n",
       "    </tr>\n",
       "  </thead>\n",
       "  <tbody>\n",
       "    <tr>\n",
       "      <th>0</th>\n",
       "      <td>10000</td>\n",
       "      <td>0.5</td>\n",
       "    </tr>\n",
       "    <tr>\n",
       "      <th>1</th>\n",
       "      <td>10001</td>\n",
       "      <td>0.5</td>\n",
       "    </tr>\n",
       "    <tr>\n",
       "      <th>2</th>\n",
       "      <td>10002</td>\n",
       "      <td>0.5</td>\n",
       "    </tr>\n",
       "    <tr>\n",
       "      <th>3</th>\n",
       "      <td>10003</td>\n",
       "      <td>0.5</td>\n",
       "    </tr>\n",
       "    <tr>\n",
       "      <th>4</th>\n",
       "      <td>10004</td>\n",
       "      <td>0.5</td>\n",
       "    </tr>\n",
       "  </tbody>\n",
       "</table>\n",
       "</div>"
      ],
      "text/plain": [
       "      Id  choose\n",
       "0  10000     0.5\n",
       "1  10001     0.5\n",
       "2  10002     0.5\n",
       "3  10003     0.5\n",
       "4  10004     0.5"
      ]
     },
     "execution_count": 89,
     "metadata": {},
     "output_type": "execute_result"
    }
   ],
   "source": [
    "# Записываем результат в файл\n",
    "submission_data = pd.read_csv('classification-choose-tutors/sample_submission.csv')\n",
    "submission_data.head()"
   ]
  },
  {
   "cell_type": "code",
   "execution_count": 90,
   "metadata": {},
   "outputs": [],
   "source": [
    "submission_data['choose'] = test_labels_pred_over\n",
    "submission_data.to_csv('classification-choose-tutors/submissions/submission_3(pr)_3.csv', index=False)"
   ]
  },
  {
   "cell_type": "markdown",
   "metadata": {},
   "source": [
    "**Результат на kaggle:** 0.94753"
   ]
  },
  {
   "cell_type": "code",
   "execution_count": null,
   "metadata": {},
   "outputs": [],
   "source": []
  }
 ],
 "metadata": {
  "kernelspec": {
   "display_name": "Python 3",
   "language": "python",
   "name": "python3"
  },
  "language_info": {
   "codemirror_mode": {
    "name": "ipython",
    "version": 3
   },
   "file_extension": ".py",
   "mimetype": "text/x-python",
   "name": "python",
   "nbconvert_exporter": "python",
   "pygments_lexer": "ipython3",
   "version": "3.7.3"
  }
 },
 "nbformat": 4,
 "nbformat_minor": 2
}
